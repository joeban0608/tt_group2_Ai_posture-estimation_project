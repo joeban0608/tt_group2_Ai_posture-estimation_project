{
  "nbformat": 4,
  "nbformat_minor": 0,
  "metadata": {
    "colab": {
      "name": "0417Download_sitting_pose_unsplash.ipynb",
      "private_outputs": true,
      "provenance": [],
      "collapsed_sections": []
    },
    "kernelspec": {
      "name": "python3",
      "display_name": "Python 3"
    },
    "language_info": {
      "name": "python"
    }
  },
  "cells": [
    {
      "cell_type": "code",
      "metadata": {
        "id": "iLatEr6Ou-2P"
      },
      "source": [
        "# # 從第一頁開始，一頁30張圖\n",
        "# import json\n",
        "# from urllib.request import urlopen\n",
        "\n",
        "# imgs_url = []\n",
        "# # 改page頁數 看要從第幾頁開始\n",
        "# page = 1\n",
        "\n",
        "# while True:\n",
        "#   count = 0\n",
        "#   url = \"https://unsplash.com/napi/search/photos?query=sitting&per_page=30&page=\" + str(page) + \"&xp=\"\n",
        "#   response = urlopen(url)\n",
        "#   index = json.load(response)\n",
        "#   pics = index[\"results\"]\n",
        "#   if not pics:\n",
        "#     print(\"應該是最後一頁\")\n",
        "#     break\n",
        "#   print(\"第\"+ str(page) +\"頁\")\n",
        "#   for p in pics:\n",
        "#       img_index = p[\"links\"]\n",
        "#       img = img_index[\"download\"]\n",
        "#       imgs_url.append(img)\n",
        "#       print(img)\n",
        "#       count += 1\n",
        "#   print(\"這頁有幾張:\", count)\n",
        "#   page += 1\n",
        "# # len(imgs_url)"
      ],
      "execution_count": null,
      "outputs": []
    },
    {
      "cell_type": "code",
      "metadata": {
        "id": "iJy-BX43mC0S"
      },
      "source": [
        "# 從第一頁開始，一頁30張圖\n",
        "import json\n",
        "from urllib.request import urlopen\n",
        "import math\n",
        "imgs_url = []\n",
        "# 改page頁數 看要從第幾頁開始，一頁30張\n",
        "p = int(input(\"請輸入從第幾張開始下載：\"))\n",
        "# print(type(p))\n",
        "page = math.ceil(p / 30)\n",
        "# print(\"從第\", page , \"頁開始\")\n",
        "r = int(input(\"請輸入從第幾張結束下載：\"))\n",
        "rg = math.ceil(r / 30)\n",
        "rg = rg - page + 1\n",
        "for i in range(rg):\n",
        "  count = 0\n",
        "  url = \"https://unsplash.com/napi/search/photos?query=sitting&per_page=30&page=\" + str(page) + \"&xp=\"\n",
        "  response = urlopen(url)\n",
        "  index = json.load(response)\n",
        "  pics = index[\"results\"]\n",
        "  if not pics:\n",
        "    print(\"應該是最後一頁\")\n",
        "    break\n",
        "  print(\"第\"+ str(page) +\"頁\")\n",
        "  for pic in pics:\n",
        "      img_index = pic[\"links\"]\n",
        "      img = img_index[\"download\"]\n",
        "      imgs_url.append(img)\n",
        "      print(img)\n",
        "      count += 1\n",
        "  print(\"這頁有幾張:\", count)\n",
        "  page += 1\n",
        "# len(imgs_url)\n",
        "print(p)"
      ],
      "execution_count": null,
      "outputs": []
    },
    {
      "cell_type": "code",
      "metadata": {
        "id": "wTdsFDyddQ0v"
      },
      "source": [
        "# 利用上面的imgs_url = []下載圖片\n",
        "import os\n",
        "import shutil\n",
        "import requests\n",
        "\n",
        "# 下載檔案api:https://titangene.github.io/article/python-crawler-note.html\n",
        "# base, D:\\tt_group_total_pics\\sitting_pose_5130_plus 存檔路徑\n",
        "\n",
        "base = \"sitting_pose\"\n",
        "if not os.path.exists(base):\n",
        "  os.makedirs(base)\n",
        "for i, iurl in enumerate(imgs_url):\n",
        "  iresponse = requests.get(iurl, stream=True, verify=False)\n",
        "  #fn = file_name\n",
        "  # str(i + p) , i:為enumerate的index 從0開始, p:為上述的input第幾張開始命名\n",
        "  fn = os.path.join(base, str(i+p) + \".\" + \"jpg\")\n",
        "  with open(fn, \"wb\") as f:\n",
        "    shutil.copyfileobj(iresponse.raw, f)"
      ],
      "execution_count": null,
      "outputs": []
    }
  ]
}