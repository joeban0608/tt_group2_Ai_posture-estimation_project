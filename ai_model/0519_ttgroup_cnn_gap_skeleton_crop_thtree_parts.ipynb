{
  "nbformat": 4,
  "nbformat_minor": 0,
  "metadata": {
    "colab": {
      "name": "0519_ttgroup_cnn_gap_skeleton_crop_thtree_parts.ipynb",
      "provenance": [],
      "collapsed_sections": [],
      "toc_visible": true
    },
    "kernelspec": {
      "name": "python3",
      "display_name": "Python 3"
    },
    "language_info": {
      "name": "python"
    }
  },
  "cells": [
    {
      "cell_type": "code",
      "metadata": {
        "id": "nm8NRoBhlB9z",
        "colab": {
          "base_uri": "https://localhost:8080/"
        },
        "outputId": "1b5cbbbd-0d81-4228-d3c1-082288f703f0"
      },
      "source": [
        "from google.colab import drive\n",
        "drive.mount('/content/drive')"
      ],
      "execution_count": null,
      "outputs": [
        {
          "output_type": "stream",
          "text": [
            "Mounted at /content/drive\n"
          ],
          "name": "stdout"
        }
      ]
    },
    {
      "cell_type": "markdown",
      "metadata": {
        "id": "4FC8t-ykQ5yX"
      },
      "source": [
        "# **資料預處理**"
      ]
    },
    {
      "cell_type": "code",
      "metadata": {
        "id": "dA6VTyHHVbgW"
      },
      "source": [
        "from zipfile import ZipFile\n",
        "path = \"/content/drive/MyDrive/ttgroup/0_9000/0519_crop_hd_save_pics.zip\"\n",
        "f = ZipFile(path)\n",
        "# f.extractall() 小括號是直接解壓縮在同一層\n",
        "f.extractall()"
      ],
      "execution_count": null,
      "outputs": []
    },
    {
      "cell_type": "code",
      "metadata": {
        "id": "jtQBLTBVturv"
      },
      "source": [
        "from zipfile import ZipFile\n",
        "path = \"/content/drive/MyDrive/ttgroup/0_9000/0519_crop_sho_save_pics.zip\"\n",
        "f = ZipFile(path)\n",
        "# f.extractall() 小括號是直接解壓縮在同一層\n",
        "f.extractall()"
      ],
      "execution_count": null,
      "outputs": []
    },
    {
      "cell_type": "code",
      "metadata": {
        "id": "IiXGiLU2VBcH"
      },
      "source": [
        "from zipfile import ZipFile\n",
        "path = \"/content/drive/MyDrive/ttgroup/0_9000/0519_crop_ft_save_pics.zip\"\n",
        "f = ZipFile(path)\n",
        "# f.extractall() 小括號是直接解壓縮在同一層\n",
        "f.extractall()"
      ],
      "execution_count": null,
      "outputs": []
    },
    {
      "cell_type": "code",
      "metadata": {
        "id": "MvY_715suucv",
        "colab": {
          "base_uri": "https://localhost:8080/",
          "height": 402
        },
        "outputId": "129a4501-7bcb-4f3b-a5c1-510ba084e510"
      },
      "source": [
        "# 製作igm_name的list\n",
        "import glob\n",
        "import pandas as pd\n",
        "import numpy as np\n",
        "\n",
        "# sorted() : 排序所有可跌代對象\n",
        "# split() : 分割()\n",
        "fn_dic = {\"img_name\":[]}\n",
        "paths = sorted(glob.glob(\"0519_crop_hd_save_pics/*\"))\n",
        "for path in paths:\n",
        "  fn = path.split(\"/\")[-1].split(\".\")[0]\n",
        "  fn_dic[\"img_name\"].append(fn)\n",
        "fn_dic_df = pd.DataFrame(fn_dic)\n",
        "fn_dic_df"
      ],
      "execution_count": null,
      "outputs": [
        {
          "output_type": "execute_result",
          "data": {
            "text/html": [
              "<div>\n",
              "<style scoped>\n",
              "    .dataframe tbody tr th:only-of-type {\n",
              "        vertical-align: middle;\n",
              "    }\n",
              "\n",
              "    .dataframe tbody tr th {\n",
              "        vertical-align: top;\n",
              "    }\n",
              "\n",
              "    .dataframe thead th {\n",
              "        text-align: right;\n",
              "    }\n",
              "</style>\n",
              "<table border=\"1\" class=\"dataframe\">\n",
              "  <thead>\n",
              "    <tr style=\"text-align: right;\">\n",
              "      <th></th>\n",
              "      <th>img_name</th>\n",
              "    </tr>\n",
              "  </thead>\n",
              "  <tbody>\n",
              "    <tr>\n",
              "      <th>0</th>\n",
              "      <td>0004</td>\n",
              "    </tr>\n",
              "    <tr>\n",
              "      <th>1</th>\n",
              "      <td>0044</td>\n",
              "    </tr>\n",
              "    <tr>\n",
              "      <th>2</th>\n",
              "      <td>0070</td>\n",
              "    </tr>\n",
              "    <tr>\n",
              "      <th>3</th>\n",
              "      <td>0089</td>\n",
              "    </tr>\n",
              "    <tr>\n",
              "      <th>4</th>\n",
              "      <td>0095</td>\n",
              "    </tr>\n",
              "    <tr>\n",
              "      <th>...</th>\n",
              "      <td>...</td>\n",
              "    </tr>\n",
              "    <tr>\n",
              "      <th>580</th>\n",
              "      <td>8868</td>\n",
              "    </tr>\n",
              "    <tr>\n",
              "      <th>581</th>\n",
              "      <td>8872</td>\n",
              "    </tr>\n",
              "    <tr>\n",
              "      <th>582</th>\n",
              "      <td>8877</td>\n",
              "    </tr>\n",
              "    <tr>\n",
              "      <th>583</th>\n",
              "      <td>8903</td>\n",
              "    </tr>\n",
              "    <tr>\n",
              "      <th>584</th>\n",
              "      <td>8933</td>\n",
              "    </tr>\n",
              "  </tbody>\n",
              "</table>\n",
              "<p>585 rows × 1 columns</p>\n",
              "</div>"
            ],
            "text/plain": [
              "    img_name\n",
              "0       0004\n",
              "1       0044\n",
              "2       0070\n",
              "3       0089\n",
              "4       0095\n",
              "..       ...\n",
              "580     8868\n",
              "581     8872\n",
              "582     8877\n",
              "583     8903\n",
              "584     8933\n",
              "\n",
              "[585 rows x 1 columns]"
            ]
          },
          "metadata": {
            "tags": []
          },
          "execution_count": 5
        }
      ]
    },
    {
      "cell_type": "code",
      "metadata": {
        "id": "zgi4440OWv_H",
        "colab": {
          "base_uri": "https://localhost:8080/"
        },
        "outputId": "90ec44b7-5f68-4d10-caf8-492558617b6a"
      },
      "source": [
        "# img_combine_hd_arr 訓練資料DataFarme (x_train, x_test)\n",
        "from PIL import Image\n",
        "fn_list = fn_dic[\"img_name\"]\n",
        "\n",
        "# create img_combine_hd_arr\n",
        "img_hd_arr_list = []\n",
        "for fn in fn_list:\n",
        "  img = Image.open(\"/content/0519_crop_hd_save_pics/\" + fn + \".jpg\").convert(\"RGB\")\n",
        "  img = img.resize((256, 256))\n",
        "  globals()[\"img_\"+ fn] = img\n",
        "  globals()[\"img_\"+ fn + \"_arr\"] = np.array(globals()[\"img_\"+fn])\n",
        "  img_hd_arr_list.append(globals()[\"img_\"+ fn + \"_arr\"])\n",
        "  img.close()\n",
        "# img_arr_list = ()\n",
        "img_combine_hd_arr = np.array(img_hd_arr_list)\n",
        "# img_combine_hd_arr.shape\n",
        "\n",
        "# img_combine_sho_arr 訓練資料DataFarme (x_train, x_test)\n",
        "img_sho_arr_list = []\n",
        "for fn in fn_list:\n",
        "  img = Image.open(\"/content/0519_crop_sho_save_pics/\" + fn + \".jpg\").convert(\"RGB\")\n",
        "  img = img.resize((256, 256))\n",
        "  globals()[\"img_\"+ fn] = img\n",
        "  globals()[\"img_\"+ fn + \"_arr\"] = np.array(globals()[\"img_\"+fn])\n",
        "  img_sho_arr_list.append(globals()[\"img_\"+ fn + \"_arr\"])\n",
        "  img.close()\n",
        "# img_arr_list = ()\n",
        "img_combine_sho_arr = np.array(img_sho_arr_list)\n",
        "# img_combine_sho_arr.shape\n",
        "\n",
        "# img_combine_ft_arr 訓練資料DataFarme (x_train, x_test)\n",
        "img_ft_arr_list = []\n",
        "for fn in fn_list:\n",
        "  img = Image.open(\"/content/0519_crop_ft_save_pics/\" + fn + \".jpg\").convert(\"RGB\")\n",
        "  img = img.resize((256, 256))\n",
        "  globals()[\"img_\"+ fn] = img\n",
        "  globals()[\"img_\"+ fn + \"_arr\"] = np.array(globals()[\"img_\"+fn])\n",
        "  img_ft_arr_list.append(globals()[\"img_\"+ fn + \"_arr\"])\n",
        "  img.close()\n",
        "# img_arr_list = ()\n",
        "img_combine_ft_arr = np.array(img_ft_arr_list)\n",
        "img_combine_ft_arr.shape"
      ],
      "execution_count": null,
      "outputs": [
        {
          "output_type": "execute_result",
          "data": {
            "text/plain": [
              "(585, 256, 256, 3)"
            ]
          },
          "metadata": {
            "tags": []
          },
          "execution_count": 6
        }
      ]
    },
    {
      "cell_type": "code",
      "metadata": {
        "id": "DcKAKqF3R8QV",
        "colab": {
          "base_uri": "https://localhost:8080/",
          "height": 402
        },
        "outputId": "491f2092-2708-43d5-e1c7-f4b8d025b15f"
      },
      "source": [
        "# ans_df  驗證資料DataFrame (y_train, y_test)\n",
        "base = \"/content/drive/MyDrive/ttgroup/0_9000/0519_wrong_total_sit_value_combinefoot_0_9000.csv\"\n",
        "csv = pd.read_csv(base, sep=\",\")\n",
        "ans_df = pd.DataFrame(csv)\n",
        "ans_df = ans_df.drop([\"img_name\"], axis=1)\n",
        "ans_arr = np.array(ans_df)\n",
        "\n",
        "# ans_hd_df\n",
        "ans_hd_df = pd.DataFrame(ans_df[\"head\"])\n",
        "\n",
        "# ans_sho_df\n",
        "ans_sho_df = pd.DataFrame(ans_df[\"shoulder\"])\n",
        "ans_sho_df\n",
        "\n",
        "# ans_ft_df\n",
        "ans_ft_df = pd.DataFrame(ans_df[\"foot\"])\n",
        "ans_ft_df\n"
      ],
      "execution_count": null,
      "outputs": [
        {
          "output_type": "execute_result",
          "data": {
            "text/html": [
              "<div>\n",
              "<style scoped>\n",
              "    .dataframe tbody tr th:only-of-type {\n",
              "        vertical-align: middle;\n",
              "    }\n",
              "\n",
              "    .dataframe tbody tr th {\n",
              "        vertical-align: top;\n",
              "    }\n",
              "\n",
              "    .dataframe thead th {\n",
              "        text-align: right;\n",
              "    }\n",
              "</style>\n",
              "<table border=\"1\" class=\"dataframe\">\n",
              "  <thead>\n",
              "    <tr style=\"text-align: right;\">\n",
              "      <th></th>\n",
              "      <th>foot</th>\n",
              "    </tr>\n",
              "  </thead>\n",
              "  <tbody>\n",
              "    <tr>\n",
              "      <th>0</th>\n",
              "      <td>1</td>\n",
              "    </tr>\n",
              "    <tr>\n",
              "      <th>1</th>\n",
              "      <td>1</td>\n",
              "    </tr>\n",
              "    <tr>\n",
              "      <th>2</th>\n",
              "      <td>1</td>\n",
              "    </tr>\n",
              "    <tr>\n",
              "      <th>3</th>\n",
              "      <td>1</td>\n",
              "    </tr>\n",
              "    <tr>\n",
              "      <th>4</th>\n",
              "      <td>1</td>\n",
              "    </tr>\n",
              "    <tr>\n",
              "      <th>...</th>\n",
              "      <td>...</td>\n",
              "    </tr>\n",
              "    <tr>\n",
              "      <th>580</th>\n",
              "      <td>0</td>\n",
              "    </tr>\n",
              "    <tr>\n",
              "      <th>581</th>\n",
              "      <td>1</td>\n",
              "    </tr>\n",
              "    <tr>\n",
              "      <th>582</th>\n",
              "      <td>0</td>\n",
              "    </tr>\n",
              "    <tr>\n",
              "      <th>583</th>\n",
              "      <td>1</td>\n",
              "    </tr>\n",
              "    <tr>\n",
              "      <th>584</th>\n",
              "      <td>1</td>\n",
              "    </tr>\n",
              "  </tbody>\n",
              "</table>\n",
              "<p>585 rows × 1 columns</p>\n",
              "</div>"
            ],
            "text/plain": [
              "     foot\n",
              "0       1\n",
              "1       1\n",
              "2       1\n",
              "3       1\n",
              "4       1\n",
              "..    ...\n",
              "580     0\n",
              "581     1\n",
              "582     0\n",
              "583     1\n",
              "584     1\n",
              "\n",
              "[585 rows x 1 columns]"
            ]
          },
          "metadata": {
            "tags": []
          },
          "execution_count": 7
        }
      ]
    },
    {
      "cell_type": "markdown",
      "metadata": {
        "id": "BD1y3jYNNBnc"
      },
      "source": [
        "# Data_preprocess"
      ]
    },
    {
      "cell_type": "code",
      "metadata": {
        "id": "Ttb_skDoV5_F"
      },
      "source": [
        "# 切割資料_hd x_train, x_test, y_train, y_test\n",
        "from sklearn.model_selection import train_test_split\n",
        "import numpy as np\n",
        "hd_x_train, hd_x_test, hd_y_train, hd_y_test = train_test_split(img_combine_hd_arr,\n",
        "                             np.array(ans_hd_df),\n",
        "                             test_size=0.1)\n",
        "\n",
        "# 切割資料_sho x_train, x_test, y_train, y_test\n",
        "from sklearn.model_selection import train_test_split\n",
        "import numpy as np\n",
        "sho_x_train, sho_x_test, sho_y_train, sho_y_test = train_test_split(img_combine_sho_arr,\n",
        "                             np.array(ans_sho_df),\n",
        "                             test_size=0.1)\n",
        "\n",
        "# 切割資料_ft x_train, x_test, y_train, y_test\n",
        "from sklearn.model_selection import train_test_split\n",
        "import numpy as np\n",
        "ft_x_train, ft_x_test, ft_y_train, ft_y_test = train_test_split(img_combine_ft_arr,\n",
        "                             np.array(ans_ft_df),\n",
        "                             test_size=0.1)"
      ],
      "execution_count": null,
      "outputs": []
    },
    {
      "cell_type": "code",
      "metadata": {
        "id": "CwNPJTHgYYUD",
        "colab": {
          "base_uri": "https://localhost:8080/"
        },
        "outputId": "3ebdaa48-c671-4f4c-9a6b-3fd7c22839a5"
      },
      "source": [
        "print(hd_x_train.shape)\n",
        "print(hd_y_train.shape)\n",
        "print(hd_x_test.shape)\n",
        "print(hd_y_test.shape)\n",
        "print(\"-\" * 15)\n",
        "print(sho_x_train.shape)\n",
        "print(sho_y_train.shape)\n",
        "print(sho_x_test.shape)\n",
        "print(sho_y_test.shape)\n",
        "print(\"-\" * 15)\n",
        "print(ft_x_train.shape)\n",
        "print(ft_y_train.shape)\n",
        "print(ft_x_test.shape)\n",
        "print(ft_y_test.shape)"
      ],
      "execution_count": null,
      "outputs": [
        {
          "output_type": "stream",
          "text": [
            "(526, 256, 256, 3)\n",
            "(526, 1)\n",
            "(59, 256, 256, 3)\n",
            "(59, 1)\n",
            "---------------\n",
            "(526, 256, 256, 3)\n",
            "(526, 1)\n",
            "(59, 256, 256, 3)\n",
            "(59, 1)\n",
            "---------------\n",
            "(526, 256, 256, 3)\n",
            "(526, 1)\n",
            "(59, 256, 256, 3)\n",
            "(59, 1)\n"
          ],
          "name": "stdout"
        }
      ]
    },
    {
      "cell_type": "code",
      "metadata": {
        "id": "8ly4gEHoU9fT",
        "colab": {
          "base_uri": "https://localhost:8080/",
          "height": 250
        },
        "outputId": "9bd50b36-1f80-4e8c-a346-6dc888f7f2cb"
      },
      "source": [
        "# 測試圖片和標籤 test_rd_pic_label\n",
        "import random\n",
        "import matplotlib.pyplot as plt\n",
        "idx = random.randint(0, 260)\n",
        "\n",
        "# 一次plot多個部位方式: 但因為三個部位tran_test_split 資料不一樣,所以plot的圖片也會不同張\n",
        "print(idx)\n",
        "label_list = [hd_y_train[idx][0], sho_y_train[idx][0], ft_y_train[idx][0]]\n",
        "img_show_cb_arr = np.array([hd_x_train[idx], sho_x_train[idx], ft_x_train[idx]])\n",
        "print(label_list)\n",
        "# Plot_pics\n",
        "plt.figure(figsize=(10,10))\n",
        "for i in range(len(img_show_cb_arr)):\n",
        "  plt.subplot(1,3,i+1)\n",
        "  plt.imshow(img_show_cb_arr[i])"
      ],
      "execution_count": null,
      "outputs": [
        {
          "output_type": "stream",
          "text": [
            "31\n",
            "[1, 0, 1]\n"
          ],
          "name": "stdout"
        },
        {
          "output_type": "display_data",
          "data": {
            "image/png": "[encoded data removed]",
            "text/plain": [
              "<Figure size 720x720 with 3 Axes>"
            ]
          },
          "metadata": {
            "tags": [],
            "needs_background": "light"
          }
        }
      ]
    },
    {
      "cell_type": "markdown",
      "metadata": {
        "id": "JnDLFRIPTFrN"
      },
      "source": [
        "# Create Model"
      ]
    },
    {
      "cell_type": "code",
      "metadata": {
        "id": "Ry2YK-f1Yu5W",
        "colab": {
          "base_uri": "https://localhost:8080/"
        },
        "outputId": "c6ddbb55-3c42-4c5a-b1c8-a7e7333358ad"
      },
      "source": [
        "# create hd_model\n",
        "from tensorflow.keras.models import Sequential\n",
        "from tensorflow.keras.layers import Conv2D, MaxPooling2D\n",
        "from tensorflow.keras.layers import Dense, Dropout, GlobalAveragePooling2D\n",
        "layers = [\n",
        "    Conv2D(32, 3, padding=\"same\", activation=\"relu\", input_shape=(256, 256, 3)),\n",
        "    MaxPooling2D(),\n",
        "    Conv2D(64, 3, padding=\"same\", activation=\"relu\"),\n",
        "    MaxPooling2D(),\n",
        "    Conv2D(128, 3, padding=\"same\", activation=\"relu\"),\n",
        "    MaxPooling2D(),\n",
        "    Conv2D(256, 3, padding=\"same\", activation=\"relu\"),\n",
        "    MaxPooling2D(),\n",
        "    Conv2D(512, 3, padding=\"same\", activation=\"relu\"),\n",
        "    GlobalAveragePooling2D(),\n",
        "    Dense(1, activation=\"sigmoid\")\n",
        "]\n",
        "hd_model = Sequential(layers)\n",
        "hd_model.summary()"
      ],
      "execution_count": null,
      "outputs": [
        {
          "output_type": "stream",
          "text": [
            "Model: \"sequential\"\n",
            "_________________________________________________________________\n",
            "Layer (type)                 Output Shape              Param #   \n",
            "=================================================================\n",
            "conv2d (Conv2D)              (None, 256, 256, 32)      896       \n",
            "_________________________________________________________________\n",
            "max_pooling2d (MaxPooling2D) (None, 128, 128, 32)      0         \n",
            "_________________________________________________________________\n",
            "conv2d_1 (Conv2D)            (None, 128, 128, 64)      18496     \n",
            "_________________________________________________________________\n",
            "max_pooling2d_1 (MaxPooling2 (None, 64, 64, 64)        0         \n",
            "_________________________________________________________________\n",
            "conv2d_2 (Conv2D)            (None, 64, 64, 128)       73856     \n",
            "_________________________________________________________________\n",
            "max_pooling2d_2 (MaxPooling2 (None, 32, 32, 128)       0         \n",
            "_________________________________________________________________\n",
            "conv2d_3 (Conv2D)            (None, 32, 32, 256)       295168    \n",
            "_________________________________________________________________\n",
            "max_pooling2d_3 (MaxPooling2 (None, 16, 16, 256)       0         \n",
            "_________________________________________________________________\n",
            "conv2d_4 (Conv2D)            (None, 16, 16, 512)       1180160   \n",
            "_________________________________________________________________\n",
            "global_average_pooling2d (Gl (None, 512)               0         \n",
            "_________________________________________________________________\n",
            "dense (Dense)                (None, 1)                 513       \n",
            "=================================================================\n",
            "Total params: 1,569,089\n",
            "Trainable params: 1,569,089\n",
            "Non-trainable params: 0\n",
            "_________________________________________________________________\n"
          ],
          "name": "stdout"
        }
      ]
    },
    {
      "cell_type": "code",
      "metadata": {
        "colab": {
          "base_uri": "https://localhost:8080/"
        },
        "id": "bNDvdTBTTOYS",
        "outputId": "2cd6dcce-0814-4414-8c60-dcf189e8ebc9"
      },
      "source": [
        "# create sho_model\n",
        "\n",
        "layers = [\n",
        "    Conv2D(32, 3, padding=\"same\", activation=\"relu\", input_shape=(256, 256, 3)),\n",
        "    MaxPooling2D(),\n",
        "    Conv2D(64, 3, padding=\"same\", activation=\"relu\"),\n",
        "    MaxPooling2D(),\n",
        "    Conv2D(128, 3, padding=\"same\", activation=\"relu\"),\n",
        "    MaxPooling2D(),\n",
        "    Conv2D(256, 3, padding=\"same\", activation=\"relu\"),\n",
        "    MaxPooling2D(),\n",
        "    Conv2D(512, 3, padding=\"same\", activation=\"relu\"),\n",
        "    GlobalAveragePooling2D(),\n",
        "    Dense(1, activation=\"sigmoid\")\n",
        "]\n",
        "sho_model = Sequential(layers)\n",
        "sho_model.summary()"
      ],
      "execution_count": null,
      "outputs": [
        {
          "output_type": "stream",
          "text": [
            "Model: \"sequential_1\"\n",
            "_________________________________________________________________\n",
            "Layer (type)                 Output Shape              Param #   \n",
            "=================================================================\n",
            "conv2d_5 (Conv2D)            (None, 256, 256, 32)      896       \n",
            "_________________________________________________________________\n",
            "max_pooling2d_4 (MaxPooling2 (None, 128, 128, 32)      0         \n",
            "_________________________________________________________________\n",
            "conv2d_6 (Conv2D)            (None, 128, 128, 64)      18496     \n",
            "_________________________________________________________________\n",
            "max_pooling2d_5 (MaxPooling2 (None, 64, 64, 64)        0         \n",
            "_________________________________________________________________\n",
            "conv2d_7 (Conv2D)            (None, 64, 64, 128)       73856     \n",
            "_________________________________________________________________\n",
            "max_pooling2d_6 (MaxPooling2 (None, 32, 32, 128)       0         \n",
            "_________________________________________________________________\n",
            "conv2d_8 (Conv2D)            (None, 32, 32, 256)       295168    \n",
            "_________________________________________________________________\n",
            "max_pooling2d_7 (MaxPooling2 (None, 16, 16, 256)       0         \n",
            "_________________________________________________________________\n",
            "conv2d_9 (Conv2D)            (None, 16, 16, 512)       1180160   \n",
            "_________________________________________________________________\n",
            "global_average_pooling2d_1 ( (None, 512)               0         \n",
            "_________________________________________________________________\n",
            "dense_1 (Dense)              (None, 1)                 513       \n",
            "=================================================================\n",
            "Total params: 1,569,089\n",
            "Trainable params: 1,569,089\n",
            "Non-trainable params: 0\n",
            "_________________________________________________________________\n"
          ],
          "name": "stdout"
        }
      ]
    },
    {
      "cell_type": "code",
      "metadata": {
        "colab": {
          "base_uri": "https://localhost:8080/"
        },
        "id": "TZ5Po3FRbkOl",
        "outputId": "cdbef74f-708f-4403-deec-1e5d7bed68e4"
      },
      "source": [
        "# create ft_model\n",
        "\n",
        "layers = [\n",
        "    Conv2D(32, 3, padding=\"same\", activation=\"relu\", input_shape=(256, 256, 3)),\n",
        "    MaxPooling2D(),\n",
        "    Conv2D(64, 3, padding=\"same\", activation=\"relu\"),\n",
        "    MaxPooling2D(),\n",
        "    Conv2D(128, 3, padding=\"same\", activation=\"relu\"),\n",
        "    MaxPooling2D(),\n",
        "    Conv2D(256, 3, padding=\"same\", activation=\"relu\"),\n",
        "    MaxPooling2D(),\n",
        "    Conv2D(512, 3, padding=\"same\", activation=\"relu\"),\n",
        "    GlobalAveragePooling2D(),\n",
        "    Dense(1, activation=\"sigmoid\")\n",
        "]\n",
        "ft_model = Sequential(layers)\n",
        "ft_model.summary()"
      ],
      "execution_count": null,
      "outputs": [
        {
          "output_type": "stream",
          "text": [
            "Model: \"sequential_2\"\n",
            "_________________________________________________________________\n",
            "Layer (type)                 Output Shape              Param #   \n",
            "=================================================================\n",
            "conv2d_10 (Conv2D)           (None, 256, 256, 32)      896       \n",
            "_________________________________________________________________\n",
            "max_pooling2d_8 (MaxPooling2 (None, 128, 128, 32)      0         \n",
            "_________________________________________________________________\n",
            "conv2d_11 (Conv2D)           (None, 128, 128, 64)      18496     \n",
            "_________________________________________________________________\n",
            "max_pooling2d_9 (MaxPooling2 (None, 64, 64, 64)        0         \n",
            "_________________________________________________________________\n",
            "conv2d_12 (Conv2D)           (None, 64, 64, 128)       73856     \n",
            "_________________________________________________________________\n",
            "max_pooling2d_10 (MaxPooling (None, 32, 32, 128)       0         \n",
            "_________________________________________________________________\n",
            "conv2d_13 (Conv2D)           (None, 32, 32, 256)       295168    \n",
            "_________________________________________________________________\n",
            "max_pooling2d_11 (MaxPooling (None, 16, 16, 256)       0         \n",
            "_________________________________________________________________\n",
            "conv2d_14 (Conv2D)           (None, 16, 16, 512)       1180160   \n",
            "_________________________________________________________________\n",
            "global_average_pooling2d_2 ( (None, 512)               0         \n",
            "_________________________________________________________________\n",
            "dense_2 (Dense)              (None, 1)                 513       \n",
            "=================================================================\n",
            "Total params: 1,569,089\n",
            "Trainable params: 1,569,089\n",
            "Non-trainable params: 0\n",
            "_________________________________________________________________\n"
          ],
          "name": "stdout"
        }
      ]
    },
    {
      "cell_type": "markdown",
      "metadata": {
        "id": "pwY-MoQ0L1yt"
      },
      "source": [
        ""
      ]
    },
    {
      "cell_type": "code",
      "metadata": {
        "id": "7F0Y3S8PESx-"
      },
      "source": [
        "# create hd_loss\n",
        "from tensorflow.keras.losses import BinaryCrossentropy\n",
        "hd_model.compile(loss=BinaryCrossentropy(),\n",
        "       optimizer=\"adam\",\n",
        "       metrics=[\"accuracy\"])\n",
        "\n",
        "# create sho_loss\n",
        "sho_model.compile(loss=BinaryCrossentropy(),\n",
        "       optimizer=\"adam\",\n",
        "       metrics=[\"accuracy\"])\n",
        "\n",
        "# create ft_loss\n",
        "ft_model.compile(loss=BinaryCrossentropy(),\n",
        "       optimizer=\"adam\",\n",
        "       metrics=[\"accuracy\"])"
      ],
      "execution_count": null,
      "outputs": []
    },
    {
      "cell_type": "code",
      "metadata": {
        "id": "_oj4f-HeEZR2"
      },
      "source": [
        "# hd_norm\n",
        "hd_x_train_norm = hd_x_train / 255\n",
        "hd_x_test_norm = hd_x_test / 255\n",
        "\n",
        "# sho_norm\n",
        "sho_x_train_norm = sho_x_train / 255\n",
        "sho_x_test_norm = sho_x_test / 255\n",
        "\n",
        "# ft_norm\n",
        "ft_x_train_norm = ft_x_train / 255\n",
        "ft_x_test_norm = ft_x_test / 255"
      ],
      "execution_count": null,
      "outputs": []
    },
    {
      "cell_type": "code",
      "metadata": {
        "id": "kIiKo2BPEbze",
        "colab": {
          "base_uri": "https://localhost:8080/"
        },
        "outputId": "a660498f-d1ac-4ef0-a82b-cd460ee2d793"
      },
      "source": [
        "# hd_fit\n",
        "from tensorflow.keras.callbacks import EarlyStopping, ModelCheckpoint\n",
        "callbacks = [\n",
        "   EarlyStopping(patience=5, restore_best_weights=True),\n",
        "   ModelCheckpoint(\"crop_hd_cnn.h5\", save_best_only=True) \n",
        "]\n",
        "\n",
        "hd_model.fit(hd_x_train_norm,\n",
        "     hd_y_train,\n",
        "     batch_size=20,\n",
        "     epochs=50,\n",
        "     validation_split=0.1,\n",
        "     verbose=2,\n",
        "     callbacks=callbacks)"
      ],
      "execution_count": null,
      "outputs": [
        {
          "output_type": "stream",
          "text": [
            "Epoch 1/50\n",
            "24/24 - 92s - loss: 0.2920 - accuracy: 0.8478 - val_loss: 0.5351 - val_accuracy: 0.7925\n",
            "Epoch 2/50\n",
            "24/24 - 94s - loss: 0.3220 - accuracy: 0.8520 - val_loss: 0.3815 - val_accuracy: 0.8491\n",
            "Epoch 3/50\n",
            "24/24 - 91s - loss: 0.2924 - accuracy: 0.8647 - val_loss: 0.3198 - val_accuracy: 0.8302\n",
            "Epoch 4/50\n",
            "24/24 - 91s - loss: 0.2696 - accuracy: 0.8626 - val_loss: 0.3529 - val_accuracy: 0.8302\n",
            "Epoch 5/50\n",
            "24/24 - 95s - loss: 0.2780 - accuracy: 0.8816 - val_loss: 0.4807 - val_accuracy: 0.8302\n",
            "Epoch 6/50\n",
            "24/24 - 99s - loss: 0.3150 - accuracy: 0.8436 - val_loss: 0.3987 - val_accuracy: 0.8679\n",
            "Epoch 7/50\n",
            "24/24 - 96s - loss: 0.2657 - accuracy: 0.8647 - val_loss: 0.3565 - val_accuracy: 0.8302\n",
            "Epoch 8/50\n",
            "24/24 - 95s - loss: 0.2729 - accuracy: 0.8710 - val_loss: 0.4036 - val_accuracy: 0.8491\n"
          ],
          "name": "stdout"
        },
        {
          "output_type": "execute_result",
          "data": {
            "text/plain": [
              "<tensorflow.python.keras.callbacks.History at 0x7f2558e70710>"
            ]
          },
          "metadata": {
            "tags": []
          },
          "execution_count": 21
        }
      ]
    },
    {
      "cell_type": "code",
      "metadata": {
        "id": "oBE23xZuwrCO",
        "colab": {
          "base_uri": "https://localhost:8080/"
        },
        "outputId": "34c2b914-d745-4b4f-b328-a54aa9114a8c"
      },
      "source": [
        "hd_model.evaluate(hd_x_test_norm, hd_y_test)"
      ],
      "execution_count": null,
      "outputs": [
        {
          "output_type": "stream",
          "text": [
            "2/2 [==============================] - 3s 1s/step - loss: 0.4870 - accuracy: 0.7797\n"
          ],
          "name": "stdout"
        },
        {
          "output_type": "execute_result",
          "data": {
            "text/plain": [
              "[0.4870346188545227, 0.7796609997749329]"
            ]
          },
          "metadata": {
            "tags": []
          },
          "execution_count": 20
        }
      ]
    },
    {
      "cell_type": "code",
      "metadata": {
        "colab": {
          "base_uri": "https://localhost:8080/",
          "height": 355
        },
        "id": "FY-6EbkoRVRU",
        "outputId": "47e0646f-133a-4e54-af61-6390964b4ee8"
      },
      "source": [
        "# sho_fit\n",
        "callbacks = [\n",
        "   EarlyStopping(patience=5, restore_best_weights=True),\n",
        "   ModelCheckpoint(\"crop_sho_cnn.h5\", save_best_only=True) \n",
        "]\n",
        "\n",
        "sho_model.fit(sho_x_train_norm,\n",
        "     sho_y_train,\n",
        "     batch_size=20,\n",
        "     epochs=50,\n",
        "     validation_split=0.1,\n",
        "     verbose=2,\n",
        "     callbacks=callbacks)"
      ],
      "execution_count": null,
      "outputs": [
        {
          "output_type": "stream",
          "text": [
            "Epoch 1/50\n"
          ],
          "name": "stdout"
        },
        {
          "output_type": "error",
          "ename": "KeyboardInterrupt",
          "evalue": "ignored",
          "traceback": [
            "\u001b[0;31m---------------------------------------------------------------------------\u001b[0m",
            "\u001b[0;31mKeyboardInterrupt\u001b[0m                         Traceback (most recent call last)",
            "\u001b[0;32m<ipython-input-18-e4299c3b6e4e>\u001b[0m in \u001b[0;36m<module>\u001b[0;34m()\u001b[0m\n\u001b[1;32m     11\u001b[0m      \u001b[0mvalidation_split\u001b[0m\u001b[0;34m=\u001b[0m\u001b[0;36m0.1\u001b[0m\u001b[0;34m,\u001b[0m\u001b[0;34m\u001b[0m\u001b[0;34m\u001b[0m\u001b[0m\n\u001b[1;32m     12\u001b[0m      \u001b[0mverbose\u001b[0m\u001b[0;34m=\u001b[0m\u001b[0;36m2\u001b[0m\u001b[0;34m,\u001b[0m\u001b[0;34m\u001b[0m\u001b[0;34m\u001b[0m\u001b[0m\n\u001b[0;32m---> 13\u001b[0;31m      callbacks=callbacks)\n\u001b[0m",
            "\u001b[0;32m/usr/local/lib/python3.7/dist-packages/tensorflow/python/keras/engine/training.py\u001b[0m in \u001b[0;36mfit\u001b[0;34m(self, x, y, batch_size, epochs, verbose, callbacks, validation_split, validation_data, shuffle, class_weight, sample_weight, initial_epoch, steps_per_epoch, validation_steps, validation_batch_size, validation_freq, max_queue_size, workers, use_multiprocessing)\u001b[0m\n\u001b[1;32m   1098\u001b[0m                 _r=1):\n\u001b[1;32m   1099\u001b[0m               \u001b[0mcallbacks\u001b[0m\u001b[0;34m.\u001b[0m\u001b[0mon_train_batch_begin\u001b[0m\u001b[0;34m(\u001b[0m\u001b[0mstep\u001b[0m\u001b[0;34m)\u001b[0m\u001b[0;34m\u001b[0m\u001b[0;34m\u001b[0m\u001b[0m\n\u001b[0;32m-> 1100\u001b[0;31m               \u001b[0mtmp_logs\u001b[0m \u001b[0;34m=\u001b[0m \u001b[0mself\u001b[0m\u001b[0;34m.\u001b[0m\u001b[0mtrain_function\u001b[0m\u001b[0;34m(\u001b[0m\u001b[0miterator\u001b[0m\u001b[0;34m)\u001b[0m\u001b[0;34m\u001b[0m\u001b[0;34m\u001b[0m\u001b[0m\n\u001b[0m\u001b[1;32m   1101\u001b[0m               \u001b[0;32mif\u001b[0m \u001b[0mdata_handler\u001b[0m\u001b[0;34m.\u001b[0m\u001b[0mshould_sync\u001b[0m\u001b[0;34m:\u001b[0m\u001b[0;34m\u001b[0m\u001b[0;34m\u001b[0m\u001b[0m\n\u001b[1;32m   1102\u001b[0m                 \u001b[0mcontext\u001b[0m\u001b[0;34m.\u001b[0m\u001b[0masync_wait\u001b[0m\u001b[0;34m(\u001b[0m\u001b[0;34m)\u001b[0m\u001b[0;34m\u001b[0m\u001b[0;34m\u001b[0m\u001b[0m\n",
            "\u001b[0;32m/usr/local/lib/python3.7/dist-packages/tensorflow/python/eager/def_function.py\u001b[0m in \u001b[0;36m__call__\u001b[0;34m(self, *args, **kwds)\u001b[0m\n\u001b[1;32m    826\u001b[0m     \u001b[0mtracing_count\u001b[0m \u001b[0;34m=\u001b[0m \u001b[0mself\u001b[0m\u001b[0;34m.\u001b[0m\u001b[0mexperimental_get_tracing_count\u001b[0m\u001b[0;34m(\u001b[0m\u001b[0;34m)\u001b[0m\u001b[0;34m\u001b[0m\u001b[0;34m\u001b[0m\u001b[0m\n\u001b[1;32m    827\u001b[0m     \u001b[0;32mwith\u001b[0m \u001b[0mtrace\u001b[0m\u001b[0;34m.\u001b[0m\u001b[0mTrace\u001b[0m\u001b[0;34m(\u001b[0m\u001b[0mself\u001b[0m\u001b[0;34m.\u001b[0m\u001b[0m_name\u001b[0m\u001b[0;34m)\u001b[0m \u001b[0;32mas\u001b[0m \u001b[0mtm\u001b[0m\u001b[0;34m:\u001b[0m\u001b[0;34m\u001b[0m\u001b[0;34m\u001b[0m\u001b[0m\n\u001b[0;32m--> 828\u001b[0;31m       \u001b[0mresult\u001b[0m \u001b[0;34m=\u001b[0m \u001b[0mself\u001b[0m\u001b[0;34m.\u001b[0m\u001b[0m_call\u001b[0m\u001b[0;34m(\u001b[0m\u001b[0;34m*\u001b[0m\u001b[0margs\u001b[0m\u001b[0;34m,\u001b[0m \u001b[0;34m**\u001b[0m\u001b[0mkwds\u001b[0m\u001b[0;34m)\u001b[0m\u001b[0;34m\u001b[0m\u001b[0;34m\u001b[0m\u001b[0m\n\u001b[0m\u001b[1;32m    829\u001b[0m       \u001b[0mcompiler\u001b[0m \u001b[0;34m=\u001b[0m \u001b[0;34m\"xla\"\u001b[0m \u001b[0;32mif\u001b[0m \u001b[0mself\u001b[0m\u001b[0;34m.\u001b[0m\u001b[0m_experimental_compile\u001b[0m \u001b[0;32melse\u001b[0m \u001b[0;34m\"nonXla\"\u001b[0m\u001b[0;34m\u001b[0m\u001b[0;34m\u001b[0m\u001b[0m\n\u001b[1;32m    830\u001b[0m       \u001b[0mnew_tracing_count\u001b[0m \u001b[0;34m=\u001b[0m \u001b[0mself\u001b[0m\u001b[0;34m.\u001b[0m\u001b[0mexperimental_get_tracing_count\u001b[0m\u001b[0;34m(\u001b[0m\u001b[0;34m)\u001b[0m\u001b[0;34m\u001b[0m\u001b[0;34m\u001b[0m\u001b[0m\n",
            "\u001b[0;32m/usr/local/lib/python3.7/dist-packages/tensorflow/python/eager/def_function.py\u001b[0m in \u001b[0;36m_call\u001b[0;34m(self, *args, **kwds)\u001b[0m\n\u001b[1;32m    853\u001b[0m       \u001b[0;31m# In this case we have created variables on the first call, so we run the\u001b[0m\u001b[0;34m\u001b[0m\u001b[0;34m\u001b[0m\u001b[0;34m\u001b[0m\u001b[0m\n\u001b[1;32m    854\u001b[0m       \u001b[0;31m# defunned version which is guaranteed to never create variables.\u001b[0m\u001b[0;34m\u001b[0m\u001b[0;34m\u001b[0m\u001b[0;34m\u001b[0m\u001b[0m\n\u001b[0;32m--> 855\u001b[0;31m       \u001b[0;32mreturn\u001b[0m \u001b[0mself\u001b[0m\u001b[0;34m.\u001b[0m\u001b[0m_stateless_fn\u001b[0m\u001b[0;34m(\u001b[0m\u001b[0;34m*\u001b[0m\u001b[0margs\u001b[0m\u001b[0;34m,\u001b[0m \u001b[0;34m**\u001b[0m\u001b[0mkwds\u001b[0m\u001b[0;34m)\u001b[0m  \u001b[0;31m# pylint: disable=not-callable\u001b[0m\u001b[0;34m\u001b[0m\u001b[0;34m\u001b[0m\u001b[0m\n\u001b[0m\u001b[1;32m    856\u001b[0m     \u001b[0;32melif\u001b[0m \u001b[0mself\u001b[0m\u001b[0;34m.\u001b[0m\u001b[0m_stateful_fn\u001b[0m \u001b[0;32mis\u001b[0m \u001b[0;32mnot\u001b[0m \u001b[0;32mNone\u001b[0m\u001b[0;34m:\u001b[0m\u001b[0;34m\u001b[0m\u001b[0;34m\u001b[0m\u001b[0m\n\u001b[1;32m    857\u001b[0m       \u001b[0;31m# Release the lock early so that multiple threads can perform the call\u001b[0m\u001b[0;34m\u001b[0m\u001b[0;34m\u001b[0m\u001b[0;34m\u001b[0m\u001b[0m\n",
            "\u001b[0;32m/usr/local/lib/python3.7/dist-packages/tensorflow/python/eager/function.py\u001b[0m in \u001b[0;36m__call__\u001b[0;34m(self, *args, **kwargs)\u001b[0m\n\u001b[1;32m   2941\u001b[0m        filtered_flat_args) = self._maybe_define_function(args, kwargs)\n\u001b[1;32m   2942\u001b[0m     return graph_function._call_flat(\n\u001b[0;32m-> 2943\u001b[0;31m         filtered_flat_args, captured_inputs=graph_function.captured_inputs)  # pylint: disable=protected-access\n\u001b[0m\u001b[1;32m   2944\u001b[0m \u001b[0;34m\u001b[0m\u001b[0m\n\u001b[1;32m   2945\u001b[0m   \u001b[0;34m@\u001b[0m\u001b[0mproperty\u001b[0m\u001b[0;34m\u001b[0m\u001b[0;34m\u001b[0m\u001b[0m\n",
            "\u001b[0;32m/usr/local/lib/python3.7/dist-packages/tensorflow/python/eager/function.py\u001b[0m in \u001b[0;36m_call_flat\u001b[0;34m(self, args, captured_inputs, cancellation_manager)\u001b[0m\n\u001b[1;32m   1917\u001b[0m       \u001b[0;31m# No tape is watching; skip to running the function.\u001b[0m\u001b[0;34m\u001b[0m\u001b[0;34m\u001b[0m\u001b[0;34m\u001b[0m\u001b[0m\n\u001b[1;32m   1918\u001b[0m       return self._build_call_outputs(self._inference_function.call(\n\u001b[0;32m-> 1919\u001b[0;31m           ctx, args, cancellation_manager=cancellation_manager))\n\u001b[0m\u001b[1;32m   1920\u001b[0m     forward_backward = self._select_forward_and_backward_functions(\n\u001b[1;32m   1921\u001b[0m         \u001b[0margs\u001b[0m\u001b[0;34m,\u001b[0m\u001b[0;34m\u001b[0m\u001b[0;34m\u001b[0m\u001b[0m\n",
            "\u001b[0;32m/usr/local/lib/python3.7/dist-packages/tensorflow/python/eager/function.py\u001b[0m in \u001b[0;36mcall\u001b[0;34m(self, ctx, args, cancellation_manager)\u001b[0m\n\u001b[1;32m    558\u001b[0m               \u001b[0minputs\u001b[0m\u001b[0;34m=\u001b[0m\u001b[0margs\u001b[0m\u001b[0;34m,\u001b[0m\u001b[0;34m\u001b[0m\u001b[0;34m\u001b[0m\u001b[0m\n\u001b[1;32m    559\u001b[0m               \u001b[0mattrs\u001b[0m\u001b[0;34m=\u001b[0m\u001b[0mattrs\u001b[0m\u001b[0;34m,\u001b[0m\u001b[0;34m\u001b[0m\u001b[0;34m\u001b[0m\u001b[0m\n\u001b[0;32m--> 560\u001b[0;31m               ctx=ctx)\n\u001b[0m\u001b[1;32m    561\u001b[0m         \u001b[0;32melse\u001b[0m\u001b[0;34m:\u001b[0m\u001b[0;34m\u001b[0m\u001b[0;34m\u001b[0m\u001b[0m\n\u001b[1;32m    562\u001b[0m           outputs = execute.execute_with_cancellation(\n",
            "\u001b[0;32m/usr/local/lib/python3.7/dist-packages/tensorflow/python/eager/execute.py\u001b[0m in \u001b[0;36mquick_execute\u001b[0;34m(op_name, num_outputs, inputs, attrs, ctx, name)\u001b[0m\n\u001b[1;32m     58\u001b[0m     \u001b[0mctx\u001b[0m\u001b[0;34m.\u001b[0m\u001b[0mensure_initialized\u001b[0m\u001b[0;34m(\u001b[0m\u001b[0;34m)\u001b[0m\u001b[0;34m\u001b[0m\u001b[0;34m\u001b[0m\u001b[0m\n\u001b[1;32m     59\u001b[0m     tensors = pywrap_tfe.TFE_Py_Execute(ctx._handle, device_name, op_name,\n\u001b[0;32m---> 60\u001b[0;31m                                         inputs, attrs, num_outputs)\n\u001b[0m\u001b[1;32m     61\u001b[0m   \u001b[0;32mexcept\u001b[0m \u001b[0mcore\u001b[0m\u001b[0;34m.\u001b[0m\u001b[0m_NotOkStatusException\u001b[0m \u001b[0;32mas\u001b[0m \u001b[0me\u001b[0m\u001b[0;34m:\u001b[0m\u001b[0;34m\u001b[0m\u001b[0;34m\u001b[0m\u001b[0m\n\u001b[1;32m     62\u001b[0m     \u001b[0;32mif\u001b[0m \u001b[0mname\u001b[0m \u001b[0;32mis\u001b[0m \u001b[0;32mnot\u001b[0m \u001b[0;32mNone\u001b[0m\u001b[0;34m:\u001b[0m\u001b[0;34m\u001b[0m\u001b[0;34m\u001b[0m\u001b[0m\n",
            "\u001b[0;31mKeyboardInterrupt\u001b[0m: "
          ]
        }
      ]
    },
    {
      "cell_type": "code",
      "metadata": {
        "id": "1aiApY58RpGX"
      },
      "source": [
        "# sho_evaluate\n",
        "sho_model.evaluate(sho_x_test_norm, sho_y_test)"
      ],
      "execution_count": null,
      "outputs": []
    },
    {
      "cell_type": "code",
      "metadata": {
        "id": "_5aMg_edb95Z"
      },
      "source": [
        "# ft_fit\n",
        "callbacks = [\n",
        "   EarlyStopping(patience=5, restore_best_weights=True),\n",
        "   ModelCheckpoint(\"crop_ft_cnn.h5\", save_best_only=True) \n",
        "]\n",
        "\n",
        "ft_model.fit(ft_x_train_norm,\n",
        "     ft_y_train,\n",
        "     batch_size=20,\n",
        "     epochs=50,\n",
        "     validation_split=0.1,\n",
        "     verbose=2,\n",
        "     callbacks=callbacks)"
      ],
      "execution_count": null,
      "outputs": []
    },
    {
      "cell_type": "code",
      "metadata": {
        "id": "4X3W6NL5cA_s"
      },
      "source": [
        "ft_model.evaluate(ft_x_test_norm, ft_y_test)"
      ],
      "execution_count": null,
      "outputs": []
    },
    {
      "cell_type": "code",
      "metadata": {
        "id": "5x9KJZ0syo_d"
      },
      "source": [
        "# input_and_Pro_pic\n",
        "model_n_list = [hd_model, sho_model, ft_model]\n",
        "\n",
        "# def (fn_path 圖片路徑, \n",
        "#    col_n column_name_list_num [0:head, 1:sho, 2:foot], \n",
        "#    m_nl model_name_list_num [0:hd_model, 1:sho_model, 2:ft_model]\n",
        "#    )   \n",
        "def Pro_result(fn_path, col_n=0, m_n_l=0):\n",
        "  img = Image.open(fn_path).resize((256, 256)).convert(\"RGB\")\n",
        "  img_np = np.array(img)\n",
        "  img_np_r = img_np.reshape(1, 256, 256, 3) / 255.0\n",
        "  img.close()\n",
        "  Pro_res_dic = {\n",
        "            \"ans_name\":[],\n",
        "            \"Proba\":[],\n",
        "            \"T&F\":[],\n",
        "            \"W_F\":[],\n",
        "            }\n",
        "  # 拿column_name, 預設[0] -> \"head\"\n",
        "  ans_name = ans_df.columns.tolist()[col_n]\n",
        "  # print(ans_hd_names)\n",
        "            \n",
        "  # Proba_wrong_head\n",
        "  pre = model_n_list[m_n_l].predict(img_np_r)[0]\n",
        "  pre_list = pre.tolist()\n",
        "  # print(\"預測數值\", pre_list)\n",
        "\n",
        "  # round(Proba) -> 0 or 1\n",
        "  ans = round(pre_list[0])\n",
        "  # print(\"T&F:\", ans_hd)\n",
        "\n",
        "  # class wrong or correct\n",
        "  def T_F_r(ans):\n",
        "    T_F_List = [\"correct\",\"wrong\"]\n",
        "    return T_F_List[1] if ans == 1 else T_F_List[0]\n",
        "\n",
        "  # 設定回字典\n",
        "  Pro_res_dic[\"ans_name\"].append(ans_name)\n",
        "  Pro_res_dic[\"Proba\"].append(pre_list[0])\n",
        "  Pro_res_dic[\"T&F\"].append(ans)\n",
        "  Pro_res_dic[\"W_F\"].append(T_F_r(ans))\n",
        "  return Pro_res_dic, img_np\n",
        "\n",
        "# use_def_Pro_pics \n",
        "hd_Pro_dic, hd_img_np = Pro_result(\"/content/crop_hd_sho_ft_non.jpg\", col_n=0, m_n_l=0)\n",
        "sho_Pro_dic, sho_img_np = Pro_result(\"/content/crop_sho_sho_ft_non.jpg\", col_n=1, m_n_l=1)\n",
        "ft_Pro_dic, ft_img_np = Pro_result(\"/content/crop_ft_sho_ft_non.jpg\", col_n=2, m_n_l=2)\n",
        "\n",
        "print(str(hd_Pro_dic) + \"\\n\" + str(sho_Pro_dic) + \"\\n\" + str(ft_Pro_dic))\n"
      ],
      "execution_count": null,
      "outputs": []
    },
    {
      "cell_type": "code",
      "metadata": {
        "id": "C_rJeqP8ezjD"
      },
      "source": [
        "# final_present\n",
        "pd.DataFrame([hd_Pro_dic, sho_Pro_dic, ft_Pro_dic])"
      ],
      "execution_count": null,
      "outputs": []
    },
    {
      "cell_type": "code",
      "metadata": {
        "id": "GnnjMHzQvI1G"
      },
      "source": [
        "# plot ans\n",
        "Pro_dic_lis = [hd_Pro_dic, sho_Pro_dic, ft_Pro_dic]\n",
        "img_np_list = [hd_img_np, sho_img_np, ft_img_np]\n",
        "plt.figure(figsize=(14, 14))\n",
        "for i in range(len(img_np_list)):\n",
        "  plt.subplot(1, 3, i+1)\n",
        "  t = \"[name]:{}\\n[P]:{}\\n[T&F]:{}\\n[W_F]:{}\".format(Pro_dic_lis[i]['ans_name'], \n",
        "                        Pro_dic_lis[i]['Proba'],\n",
        "                        Pro_dic_lis[i]['T&F'],\n",
        "                        Pro_dic_lis[i]['W_F'])\n",
        "  plt.title(t)\n",
        "  plt.axis(\"off\")\n",
        "  plt.imshow(img_np_list[i])"
      ],
      "execution_count": null,
      "outputs": []
    }
  ]
}