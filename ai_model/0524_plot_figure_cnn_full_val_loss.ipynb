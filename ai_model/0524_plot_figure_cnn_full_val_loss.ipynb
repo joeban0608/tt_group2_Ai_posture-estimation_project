{
  "nbformat": 4,
  "nbformat_minor": 0,
  "metadata": {
    "colab": {
      "name": "0524_plot_figure_cnn_full_val_loss.ipynb",
      "private_outputs": true,
      "provenance": [],
      "collapsed_sections": []
    },
    "kernelspec": {
      "name": "python3",
      "display_name": "Python 3"
    },
    "language_info": {
      "name": "python"
    }
  },
  "cells": [
    {
      "cell_type": "code",
      "metadata": {
        "id": "YvtjxhUusd1X"
      },
      "source": [
        "# from matplotlib import pyplot as plt\n",
        "# hd_x = [i for i in range(1, 7)]\n",
        "# hd_y = "
      ],
      "execution_count": null,
      "outputs": []
    },
    {
      "cell_type": "code",
      "metadata": {
        "id": "Rius-96odRzf"
      },
      "source": [
        "# # cnn_full_body_epoch_loss\n",
        "\n",
        "full_epoch_loss_list =[\n",
        "\"Epoch 1/50\"\n",
        ",\"24/24 - 2s - loss: 0.4799 - accuracy: 0.3827 - val_loss: 0.4576 - val_accuracy: 0.4528\"\n",
        ",\"Epoch 2/50\"\n",
        ",\"24/24 - 2s - loss: 0.4814 - accuracy: 0.3975 - val_loss: 0.4556 - val_accuracy: 0.4151\"\n",
        ",\"Epoch 3/50\"\n",
        ",\"24/24 - 2s - loss: 0.4792 - accuracy: 0.4017 - val_loss: 0.4737 - val_accuracy: 0.3774\"\n",
        ",\"Epoch 4/50\"\n",
        ",\"24/24 - 2s - loss: 0.4757 - accuracy: 0.3953 - val_loss: 0.4509 - val_accuracy: 0.4151\"\n",
        ",\"Epoch 5/50\"\n",
        ",\"24/24 - 2s - loss: 0.4761 - accuracy: 0.3763 - val_loss: 0.4680 - val_accuracy: 0.4906\"\n",
        ",\"Epoch 6/50\"\n",
        ",\"24/24 - 2s - loss: 0.4801 - accuracy: 0.4186 - val_loss: 0.4683 - val_accuracy: 0.3962\"\n",
        ",\"Epoch 7/50\"\n",
        ",\"24/24 - 2s - loss: 0.4851 - accuracy: 0.4165 - val_loss: 0.4468 - val_accuracy: 0.4717\"\n",
        ",\"Epoch 8/50\"\n",
        ",\"24/24 - 2s - loss: 0.4704 - accuracy: 0.4059 - val_loss: 0.4433 - val_accuracy: 0.4151\"\n",
        ",\"Epoch 9/50\"\n",
        ",\"24/24 - 2s - loss: 0.4613 - accuracy: 0.4313 - val_loss: 0.4300 - val_accuracy: 0.4906\"\n",
        ",\"Epoch 10/50\"\n",
        ",\"24/24 - 2s - loss: 0.4574 - accuracy: 0.4397 - val_loss: 0.4333 - val_accuracy: 0.4906\"\n",
        ",\"Epoch 11/50\"\n",
        ",\"24/24 - 2s - loss: 0.4491 - accuracy: 0.4778 - val_loss: 0.4497 - val_accuracy: 0.3962\"\n",
        ",\"Epoch 12/50\"\n",
        ",\"24/24 - 2s - loss: 0.4373 - accuracy: 0.4884 - val_loss: 0.3971 - val_accuracy: 0.4906\"\n",
        ",\"Epoch 13/50\"\n",
        ",\"24/24 - 2s - loss: 0.4231 - accuracy: 0.5053 - val_loss: 0.3974 - val_accuracy: 0.4906\"\n",
        ",\"Epoch 14/50\"\n",
        ",\"24/24 - 2s - loss: 0.4079 - accuracy: 0.5497 - val_loss: 0.4085 - val_accuracy: 0.5094\"\n",
        ",\"Epoch 15/50\"\n",
        ",\"24/24 - 2s - loss: 0.3987 - accuracy: 0.5518 - val_loss: 0.4056 - val_accuracy: 0.6792\"\n",
        ",\"Epoch 16/50\"\n",
        ",\"24/24 - 2s - loss: 0.4054 - accuracy: 0.5518 - val_loss: 0.3884 - val_accuracy: 0.4717\"\n",
        ",\"Epoch 17/50\"\n",
        ",\"24/24 - 2s - loss: 0.3872 - accuracy: 0.6195 - val_loss: 0.3772 - val_accuracy: 0.6038\"\n",
        ",\"Epoch 18/50\"\n",
        ",\"24/24 - 2s - loss: 0.3682 - accuracy: 0.6068 - val_loss: 0.4111 - val_accuracy: 0.6415\"\n",
        ",\"Epoch 19/50\"\n",
        ",\"24/24 - 2s - loss: 0.3740 - accuracy: 0.6512 - val_loss: 0.3797 - val_accuracy: 0.6038\"\n",
        ",\"Epoch 20/50\"\n",
        ",\"24/24 - 2s - loss: 0.3468 - accuracy: 0.6364 - val_loss: 0.3874 - val_accuracy: 0.6038\"\n",
        ",\"Epoch 21/50\"\n",
        ",\"24/24 - 2s - loss: 0.3408 - accuracy: 0.6406 - val_loss: 0.5043 - val_accuracy: 0.6604\"\n",
        ",\"Epoch 22/50\"\n",
        ",\"24/24 - 2s - loss: 0.3987 - accuracy: 0.6216 - val_loss: 0.3816 - val_accuracy: 0.5660\"\n",
        "]"
      ],
      "execution_count": null,
      "outputs": []
    },
    {
      "cell_type": "code",
      "metadata": {
        "id": "VtyeWr2ldd6d"
      },
      "source": [
        "# create_cnn_loss_list\n",
        "import pandas as pd\n",
        "full_loss_dic = {\"val_loss\":[l for l in [loss.split(\"-\")[4].split(\":\")[1][1:] for i, loss in enumerate(full_epoch_loss_list) if i % 2]]}\n",
        "full_loss_df = pd.DataFrame(full_loss_dic)\n",
        "full_loss_df\n",
        "# sho_loss_dic[\"val_loss\"]"
      ],
      "execution_count": null,
      "outputs": []
    },
    {
      "cell_type": "code",
      "metadata": {
        "id": "sktsFHAcsh84"
      },
      "source": [
        "from matplotlib import pyplot as plt\n",
        "from matplotlib.ticker import MultipleLocator, FormatStrFormatter\n",
        "\n",
        "# x軸:Loss, y軸:Epoch\n",
        "plt.figure(figsize=(12, 12))\n",
        "\n",
        "#create head,x,y \n",
        "full_x = [i for i in range(1, len(full_loss_dic[\"val_loss\"])+ 1)]\n",
        "# 取出hd_y每個str(value)to float(value)\n",
        "full_y = [float(f) for f in full_loss_dic[\"val_loss\"]]\n",
        "\n",
        "\n",
        "# fix figure\n",
        "# 在plot的參數需額外設置label，另外在這行Data_1, = …，注意變數名稱後面要多一個逗號ex. Line_1,\n",
        "Line_1, = plt.plot(full_x, full_y, \"r--o\", label = \"full_val_loss\")\n",
        "\n",
        "# 加入刻度方式：\n",
        "ax = plt.subplot(111) \n",
        "ymajorLocator = MultipleLocator(0.05)\n",
        "ax.yaxis.set_major_locator(ymajorLocator)\n",
        "\n",
        "#　標題、內容物legend、刻度大小\n",
        "plt.tick_params(axis='both', labelsize=24) #\n",
        "plt.legend(handles=[Line_1], fontsize=18)\n",
        "plt.title(\"CNN_full_LOSS\", fontsize=24) #圖表標題\n",
        "\n",
        "# import numpy as np\n",
        "# import matplotlib.pyplot as plt\n",
        "# from matplotlib.ticker import MultipleLocator, FormatStrFormatter\n",
        "\n",
        "# #修改主刻度\n",
        "# xmajorLocator = MultipleLocator(20) #将x主刻度标签设置为20的倍数\n",
        "# xmajorFormatter = FormatStrFormatter('%5.1f') #设置x轴标签文本的格式\n",
        "# ymajorLocator = MultipleLocator(0.5) #将y轴主刻度标签设置为0.5的倍数\n",
        "# ymajorFormatter = FormatStrFormatter('%1.1f') #设置y轴标签文本的格式\n",
        "# #设置主刻度标签的位置,标签文本的格式\n",
        "# ax.xaxis.set_major_locator(xmajorLocator)\n",
        "# ax.xaxis.set_major_formatter(xmajorFormatter)\n",
        "# ax.yaxis.set_major_locator(ymajorLocator)\n",
        "# ax.yaxis.set_major_formatter(ymajorFormatter)\n",
        "# ————————————————\n",
        "# 版权声明：本文为CSDN博主「开码牛」的原创文章，遵循CC 4.0 BY-SA版权协议，转载请附上原文出处链接及本声明。\n",
        "# 原文链接：https://blog.csdn.net/helunqu2017/article/details/78736661"
      ],
      "execution_count": null,
      "outputs": []
    },
    {
      "cell_type": "code",
      "metadata": {
        "id": "ZnjQJAbiw3ie"
      },
      "source": [
        ""
      ],
      "execution_count": null,
      "outputs": []
    }
  ]
}