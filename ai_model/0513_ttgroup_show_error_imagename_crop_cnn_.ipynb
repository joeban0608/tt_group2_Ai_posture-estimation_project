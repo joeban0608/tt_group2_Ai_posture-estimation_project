{
  "nbformat": 4,
  "nbformat_minor": 0,
  "metadata": {
    "accelerator": "GPU",
    "colab": {
      "name": "0513_ttgroup_show_error_imagename_crop_cnn_.ipynb",
      "provenance": [],
      "collapsed_sections": []
    },
    "kernelspec": {
      "display_name": "Python 3",
      "name": "python3"
    },
    "language_info": {
      "name": "python"
    }
  },
  "cells": [
    {
      "cell_type": "markdown",
      "metadata": {
        "id": "Axm3R8NoRT4k"
      },
      "source": [
        "# **尚未使用**"
      ]
    },
    {
      "cell_type": "code",
      "metadata": {
        "colab": {
          "base_uri": "https://localhost:8080/"
        },
        "id": "nm8NRoBhlB9z",
        "outputId": "28002c7d-4ea2-44bf-9415-5c98549553b4"
      },
      "source": [
        "from google.colab import drive\n",
        "drive.mount('/content/drive')"
      ],
      "execution_count": null,
      "outputs": [
        {
          "output_type": "stream",
          "text": [
            "Drive already mounted at /content/drive; to attempt to forcibly remount, call drive.mount(\"/content/drive\", force_remount=True).\n"
          ],
          "name": "stdout"
        }
      ]
    },
    {
      "cell_type": "markdown",
      "metadata": {
        "id": "4FC8t-ykQ5yX"
      },
      "source": [
        "# **資料預處理**"
      ]
    },
    {
      "cell_type": "code",
      "metadata": {
        "id": "jtQBLTBVturv"
      },
      "source": [
        "from zipfile import ZipFile\n",
        "path = \"/content/drive/MyDrive/ttgroup/0_9000/0519_crop_hd_save_pics.zip\"\n",
        "f = ZipFile(path)\n",
        "# f.extractall() 小括號是直接解壓縮在同一層\n",
        "f.extractall()"
      ],
      "execution_count": null,
      "outputs": []
    },
    {
      "cell_type": "code",
      "metadata": {
        "colab": {
          "base_uri": "https://localhost:8080/",
          "height": 402
        },
        "id": "MvY_715suucv",
        "outputId": "fd7f96fb-7a68-4f06-e599-a5c8cc01aebb"
      },
      "source": [
        "# 製作igm_name的list\n",
        "import glob\n",
        "import pandas as pd\n",
        "import numpy as np\n",
        "\n",
        "# sorted() : 排序所有可跌代對象\n",
        "# split() : 分割()\n",
        "fn_dic = {\"img_name\":[]}\n",
        "paths = sorted(glob.glob(\"0519_crop_hd_save_pics/*\"))\n",
        "for path in paths:\n",
        "  fn = path.split(\"/\")[-1].split(\".\")[0]\n",
        "  fn_dic[\"img_name\"].append(fn)\n",
        "fn_dic_df = pd.DataFrame(fn_dic)\n",
        "fn_dic_df"
      ],
      "execution_count": null,
      "outputs": [
        {
          "output_type": "execute_result",
          "data": {
            "text/html": [
              "<div>\n",
              "<style scoped>\n",
              "    .dataframe tbody tr th:only-of-type {\n",
              "        vertical-align: middle;\n",
              "    }\n",
              "\n",
              "    .dataframe tbody tr th {\n",
              "        vertical-align: top;\n",
              "    }\n",
              "\n",
              "    .dataframe thead th {\n",
              "        text-align: right;\n",
              "    }\n",
              "</style>\n",
              "<table border=\"1\" class=\"dataframe\">\n",
              "  <thead>\n",
              "    <tr style=\"text-align: right;\">\n",
              "      <th></th>\n",
              "      <th>img_name</th>\n",
              "    </tr>\n",
              "  </thead>\n",
              "  <tbody>\n",
              "    <tr>\n",
              "      <th>0</th>\n",
              "      <td>0004</td>\n",
              "    </tr>\n",
              "    <tr>\n",
              "      <th>1</th>\n",
              "      <td>0044</td>\n",
              "    </tr>\n",
              "    <tr>\n",
              "      <th>2</th>\n",
              "      <td>0070</td>\n",
              "    </tr>\n",
              "    <tr>\n",
              "      <th>3</th>\n",
              "      <td>0089</td>\n",
              "    </tr>\n",
              "    <tr>\n",
              "      <th>4</th>\n",
              "      <td>0095</td>\n",
              "    </tr>\n",
              "    <tr>\n",
              "      <th>...</th>\n",
              "      <td>...</td>\n",
              "    </tr>\n",
              "    <tr>\n",
              "      <th>580</th>\n",
              "      <td>8868</td>\n",
              "    </tr>\n",
              "    <tr>\n",
              "      <th>581</th>\n",
              "      <td>8872</td>\n",
              "    </tr>\n",
              "    <tr>\n",
              "      <th>582</th>\n",
              "      <td>8877</td>\n",
              "    </tr>\n",
              "    <tr>\n",
              "      <th>583</th>\n",
              "      <td>8903</td>\n",
              "    </tr>\n",
              "    <tr>\n",
              "      <th>584</th>\n",
              "      <td>8933</td>\n",
              "    </tr>\n",
              "  </tbody>\n",
              "</table>\n",
              "<p>585 rows × 1 columns</p>\n",
              "</div>"
            ],
            "text/plain": [
              "    img_name\n",
              "0       0004\n",
              "1       0044\n",
              "2       0070\n",
              "3       0089\n",
              "4       0095\n",
              "..       ...\n",
              "580     8868\n",
              "581     8872\n",
              "582     8877\n",
              "583     8903\n",
              "584     8933\n",
              "\n",
              "[585 rows x 1 columns]"
            ]
          },
          "metadata": {
            "tags": []
          },
          "execution_count": 4
        }
      ]
    },
    {
      "cell_type": "code",
      "metadata": {
        "colab": {
          "base_uri": "https://localhost:8080/"
        },
        "id": "zgi4440OWv_H",
        "outputId": "aaf51185-e487-473c-9606-36097626d262"
      },
      "source": [
        "# img_combine_arr 訓練資料DataFarme (x_train, x_test)\n",
        "from PIL import Image\n",
        "fn_list = fn_dic[\"img_name\"]\n",
        "\n",
        "# # RGB寫法\n",
        "img_arr_list = []\n",
        "for fn in fn_list:\n",
        "  img = Image.open(\"/content/0519_crop_hd_save_pics/\" + fn + \".jpg\").convert(\"RGB\")\n",
        "  img = img.resize((256, 256))\n",
        "  globals()[\"img_\"+ fn] = img\n",
        "  globals()[\"img_\"+ fn + \"_arr\"] = np.array(globals()[\"img_\"+fn])\n",
        "  img_arr_list.append(globals()[\"img_\"+ fn + \"_arr\"])\n",
        "  img.close()\n",
        "# img_arr_list = ()\n",
        "img_combine_arr = np.array(img_arr_list)\n",
        "img_combine_arr.shape\n",
        "# img_combine_arr[0]"
      ],
      "execution_count": null,
      "outputs": [
        {
          "output_type": "execute_result",
          "data": {
            "text/plain": [
              "(585, 256, 256, 3)"
            ]
          },
          "metadata": {
            "tags": []
          },
          "execution_count": 5
        }
      ]
    },
    {
      "cell_type": "code",
      "metadata": {
        "id": "DcKAKqF3R8QV",
        "colab": {
          "base_uri": "https://localhost:8080/",
          "height": 402
        },
        "outputId": "2e8e66c4-5eb4-4c83-bac1-88fb5b1cee49"
      },
      "source": [
        "# ans_df  驗證資料DataFrame (y_train, y_test)\n",
        "base = \"/content/drive/MyDrive/ttgroup/0_9000/0519_wrong_total_sit_value_combinefoot_0_9000.csv\"\n",
        "csv = pd.read_csv(base, sep=\",\")\n",
        "ans_df = pd.DataFrame(csv)\n",
        "# ans_df = ans_df.drop([\"img_name\"], axis=1)\n",
        "# ans_arr = np.array(ans_df)\n",
        "# # ans_df\n",
        "# ans_sho_df = pd.DataFrame(ans_df[\"shoulder\"])\n",
        "# ans_sho_df\n",
        "# ans_imn_sho_df = ans_df.drop([\"head\",\"foot\"], axis=1)\n",
        "# ans_imn_sho_df\n",
        "ans_imn_hd_df = ans_df.drop([\"shoulder\",\"foot\"], axis=1)\n",
        "ans_imn_hd_df"
      ],
      "execution_count": null,
      "outputs": [
        {
          "output_type": "execute_result",
          "data": {
            "text/html": [
              "<div>\n",
              "<style scoped>\n",
              "    .dataframe tbody tr th:only-of-type {\n",
              "        vertical-align: middle;\n",
              "    }\n",
              "\n",
              "    .dataframe tbody tr th {\n",
              "        vertical-align: top;\n",
              "    }\n",
              "\n",
              "    .dataframe thead th {\n",
              "        text-align: right;\n",
              "    }\n",
              "</style>\n",
              "<table border=\"1\" class=\"dataframe\">\n",
              "  <thead>\n",
              "    <tr style=\"text-align: right;\">\n",
              "      <th></th>\n",
              "      <th>img_name</th>\n",
              "      <th>head</th>\n",
              "    </tr>\n",
              "  </thead>\n",
              "  <tbody>\n",
              "    <tr>\n",
              "      <th>0</th>\n",
              "      <td>4</td>\n",
              "      <td>1</td>\n",
              "    </tr>\n",
              "    <tr>\n",
              "      <th>1</th>\n",
              "      <td>44</td>\n",
              "      <td>1</td>\n",
              "    </tr>\n",
              "    <tr>\n",
              "      <th>2</th>\n",
              "      <td>70</td>\n",
              "      <td>1</td>\n",
              "    </tr>\n",
              "    <tr>\n",
              "      <th>3</th>\n",
              "      <td>89</td>\n",
              "      <td>1</td>\n",
              "    </tr>\n",
              "    <tr>\n",
              "      <th>4</th>\n",
              "      <td>95</td>\n",
              "      <td>1</td>\n",
              "    </tr>\n",
              "    <tr>\n",
              "      <th>...</th>\n",
              "      <td>...</td>\n",
              "      <td>...</td>\n",
              "    </tr>\n",
              "    <tr>\n",
              "      <th>580</th>\n",
              "      <td>8868</td>\n",
              "      <td>1</td>\n",
              "    </tr>\n",
              "    <tr>\n",
              "      <th>581</th>\n",
              "      <td>8872</td>\n",
              "      <td>0</td>\n",
              "    </tr>\n",
              "    <tr>\n",
              "      <th>582</th>\n",
              "      <td>8877</td>\n",
              "      <td>1</td>\n",
              "    </tr>\n",
              "    <tr>\n",
              "      <th>583</th>\n",
              "      <td>8903</td>\n",
              "      <td>0</td>\n",
              "    </tr>\n",
              "    <tr>\n",
              "      <th>584</th>\n",
              "      <td>8933</td>\n",
              "      <td>0</td>\n",
              "    </tr>\n",
              "  </tbody>\n",
              "</table>\n",
              "<p>585 rows × 2 columns</p>\n",
              "</div>"
            ],
            "text/plain": [
              "     img_name  head\n",
              "0           4     1\n",
              "1          44     1\n",
              "2          70     1\n",
              "3          89     1\n",
              "4          95     1\n",
              "..        ...   ...\n",
              "580      8868     1\n",
              "581      8872     0\n",
              "582      8877     1\n",
              "583      8903     0\n",
              "584      8933     0\n",
              "\n",
              "[585 rows x 2 columns]"
            ]
          },
          "metadata": {
            "tags": []
          },
          "execution_count": 6
        }
      ]
    },
    {
      "cell_type": "code",
      "metadata": {
        "id": "Ttb_skDoV5_F"
      },
      "source": [
        "# 切割資料 x_train, x_test, y_train, y_test\n",
        "# 將image_name跟y_train, y_test一起切割\n",
        "from sklearn.model_selection import train_test_split\n",
        "import numpy as np\n",
        "x_train, x_test, y_train, y_test = train_test_split(img_combine_arr,\n",
        "                             np.array(ans_imn_hd_df),\n",
        "                             test_size=0.1)"
      ],
      "execution_count": null,
      "outputs": []
    },
    {
      "cell_type": "code",
      "metadata": {
        "id": "5k_NxbUaybOL",
        "colab": {
          "base_uri": "https://localhost:8080/"
        },
        "outputId": "bf88f678-317b-4293-da21-d47b824b7d3f"
      },
      "source": [
        "# 將image_name 的y_train, y_test 拿出來\n",
        "y_train_imn_df = pd.DataFrame(y_train)[0]\n",
        "y_test_imn_df = pd.DataFrame(y_test)[0]\n",
        "\n",
        "y_train_df = pd.DataFrame(y_train)[1]\n",
        "y_test_df = pd.DataFrame(y_test)[1]\n",
        "print(y_train_df)\n",
        "# print(len(y_test_df))\n",
        "y_train = np.array(y_train_df).reshape(len(y_train_df),1)\n",
        "y_test = np.array(y_test_df).reshape(len(y_test_df),1)\n"
      ],
      "execution_count": null,
      "outputs": [
        {
          "output_type": "stream",
          "text": [
            "0      1\n",
            "1      1\n",
            "2      1\n",
            "3      1\n",
            "4      0\n",
            "      ..\n",
            "521    1\n",
            "522    0\n",
            "523    1\n",
            "524    1\n",
            "525    1\n",
            "Name: 1, Length: 526, dtype: int64\n"
          ],
          "name": "stdout"
        }
      ]
    },
    {
      "cell_type": "code",
      "metadata": {
        "colab": {
          "base_uri": "https://localhost:8080/"
        },
        "id": "CwNPJTHgYYUD",
        "outputId": "ad5cbbe1-c74c-4a29-f112-baa0240713be"
      },
      "source": [
        "print(x_train.shape)\n",
        "print(y_train.shape)\n",
        "print(x_test.shape)\n",
        "print(y_test.shape)"
      ],
      "execution_count": null,
      "outputs": [
        {
          "output_type": "stream",
          "text": [
            "(526, 256, 256, 3)\n",
            "(526, 1)\n",
            "(59, 256, 256, 3)\n",
            "(59, 1)\n"
          ],
          "name": "stdout"
        }
      ]
    },
    {
      "cell_type": "code",
      "metadata": {
        "colab": {
          "base_uri": "https://localhost:8080/",
          "height": 319
        },
        "id": "8ly4gEHoU9fT",
        "outputId": "577f945e-8e4e-49fd-95db-93e8b4dac01b"
      },
      "source": [
        "# 顯示圖片和標籤\n",
        "import random\n",
        "import matplotlib.pyplot as plt\n",
        "idx = random.randint(0, 260)\n",
        "print(idx)\n",
        "print(y_train[idx])\n",
        "plt.imshow(x_train[idx])"
      ],
      "execution_count": null,
      "outputs": [
        {
          "output_type": "stream",
          "text": [
            "88\n",
            "[1]\n"
          ],
          "name": "stdout"
        },
        {
          "output_type": "execute_result",
          "data": {
            "text/plain": [
              "<matplotlib.image.AxesImage at 0x7f82224dc8d0>"
            ]
          },
          "metadata": {
            "tags": []
          },
          "execution_count": 10
        },
        {
          "output_type": "display_data",
          "data": {
            "image/png": "[encoded data removed]",
            "text/plain": [
              "<Figure size 432x288 with 1 Axes>"
            ]
          },
          "metadata": {
            "tags": [],
            "needs_background": "light"
          }
        }
      ]
    },
    {
      "cell_type": "markdown",
      "metadata": {
        "id": "5jqnVnlRROyX"
      },
      "source": [
        "# **模型建置**"
      ]
    },
    {
      "cell_type": "code",
      "metadata": {
        "colab": {
          "base_uri": "https://localhost:8080/"
        },
        "id": "Ry2YK-f1Yu5W",
        "outputId": "f5c065f1-b463-487a-80ae-5dbe29a3f0a9"
      },
      "source": [
        "from tensorflow.keras.models import Sequential\n",
        "from tensorflow.keras.layers import Conv2D, MaxPooling2D\n",
        "from tensorflow.keras.layers import Dense, Dropout, GlobalAveragePooling2D\n",
        "layers = [\n",
        "    Conv2D(32, 3, padding=\"same\", activation=\"relu\", input_shape=(256, 256, 3)),\n",
        "    MaxPooling2D(),\n",
        "    Conv2D(64, 3, padding=\"same\", activation=\"relu\"),\n",
        "    MaxPooling2D(),\n",
        "    Conv2D(128, 3, padding=\"same\", activation=\"relu\"),\n",
        "    MaxPooling2D(),\n",
        "    Conv2D(256, 3, padding=\"same\", activation=\"relu\"),\n",
        "    MaxPooling2D(),\n",
        "    Conv2D(512, 3, padding=\"same\", activation=\"relu\"),\n",
        "    GlobalAveragePooling2D(),\n",
        "    Dense(1, activation=\"sigmoid\")\n",
        "]\n",
        "model = Sequential(layers)\n",
        "model.summary()"
      ],
      "execution_count": null,
      "outputs": [
        {
          "output_type": "stream",
          "text": [
            "Model: \"sequential\"\n",
            "_________________________________________________________________\n",
            "Layer (type)                 Output Shape              Param #   \n",
            "=================================================================\n",
            "conv2d (Conv2D)              (None, 256, 256, 32)      896       \n",
            "_________________________________________________________________\n",
            "max_pooling2d (MaxPooling2D) (None, 128, 128, 32)      0         \n",
            "_________________________________________________________________\n",
            "conv2d_1 (Conv2D)            (None, 128, 128, 64)      18496     \n",
            "_________________________________________________________________\n",
            "max_pooling2d_1 (MaxPooling2 (None, 64, 64, 64)        0         \n",
            "_________________________________________________________________\n",
            "conv2d_2 (Conv2D)            (None, 64, 64, 128)       73856     \n",
            "_________________________________________________________________\n",
            "max_pooling2d_2 (MaxPooling2 (None, 32, 32, 128)       0         \n",
            "_________________________________________________________________\n",
            "conv2d_3 (Conv2D)            (None, 32, 32, 256)       295168    \n",
            "_________________________________________________________________\n",
            "max_pooling2d_3 (MaxPooling2 (None, 16, 16, 256)       0         \n",
            "_________________________________________________________________\n",
            "conv2d_4 (Conv2D)            (None, 16, 16, 512)       1180160   \n",
            "_________________________________________________________________\n",
            "global_average_pooling2d (Gl (None, 512)               0         \n",
            "_________________________________________________________________\n",
            "dense (Dense)                (None, 1)                 513       \n",
            "=================================================================\n",
            "Total params: 1,569,089\n",
            "Trainable params: 1,569,089\n",
            "Non-trainable params: 0\n",
            "_________________________________________________________________\n"
          ],
          "name": "stdout"
        }
      ]
    },
    {
      "cell_type": "code",
      "metadata": {
        "id": "7F0Y3S8PESx-"
      },
      "source": [
        "from tensorflow.keras.losses import BinaryCrossentropy\n",
        "model.compile(loss=BinaryCrossentropy(),\n",
        "       optimizer=\"adam\",\n",
        "       metrics=[\"accuracy\"])"
      ],
      "execution_count": null,
      "outputs": []
    },
    {
      "cell_type": "code",
      "metadata": {
        "id": "_oj4f-HeEZR2"
      },
      "source": [
        "x_train_norm = x_train / 255\n",
        "x_test_norm = x_test / 255"
      ],
      "execution_count": null,
      "outputs": []
    },
    {
      "cell_type": "code",
      "metadata": {
        "colab": {
          "base_uri": "https://localhost:8080/"
        },
        "id": "kIiKo2BPEbze",
        "outputId": "be23955f-78ae-46c5-8762-ea7c1e7f0373"
      },
      "source": [
        "from tensorflow.keras.callbacks import EarlyStopping, ModelCheckpoint\n",
        "callbacks = [\n",
        "   EarlyStopping(patience=5, restore_best_weights=True),\n",
        "   ModelCheckpoint(\"cnn.h5\", save_best_only=True) \n",
        "]\n",
        "\n",
        "model.fit(x_train_norm,\n",
        "     y_train,\n",
        "     batch_size=20,\n",
        "     epochs=50,\n",
        "     validation_split=0.1,\n",
        "     verbose=2,\n",
        "     callbacks=callbacks)"
      ],
      "execution_count": null,
      "outputs": [
        {
          "output_type": "stream",
          "text": [
            "Epoch 1/50\n",
            "24/24 - 37s - loss: 0.5832 - accuracy: 0.7315 - val_loss: 0.4519 - val_accuracy: 0.8302\n",
            "Epoch 2/50\n",
            "24/24 - 1s - loss: 0.5866 - accuracy: 0.7442 - val_loss: 0.4446 - val_accuracy: 0.8302\n",
            "Epoch 3/50\n",
            "24/24 - 1s - loss: 0.5628 - accuracy: 0.7442 - val_loss: 0.4312 - val_accuracy: 0.8302\n",
            "Epoch 4/50\n",
            "24/24 - 1s - loss: 0.5796 - accuracy: 0.7442 - val_loss: 0.4677 - val_accuracy: 0.8302\n",
            "Epoch 5/50\n",
            "24/24 - 1s - loss: 0.5523 - accuracy: 0.7442 - val_loss: 0.4275 - val_accuracy: 0.8302\n",
            "Epoch 6/50\n",
            "24/24 - 1s - loss: 0.5488 - accuracy: 0.7442 - val_loss: 0.4914 - val_accuracy: 0.8302\n",
            "Epoch 7/50\n",
            "24/24 - 1s - loss: 0.5454 - accuracy: 0.7442 - val_loss: 0.4776 - val_accuracy: 0.8302\n",
            "Epoch 8/50\n",
            "24/24 - 1s - loss: 0.5333 - accuracy: 0.7442 - val_loss: 0.4331 - val_accuracy: 0.8302\n",
            "Epoch 9/50\n",
            "24/24 - 1s - loss: 0.5276 - accuracy: 0.7442 - val_loss: 0.5067 - val_accuracy: 0.8302\n",
            "Epoch 10/50\n",
            "24/24 - 1s - loss: 0.5039 - accuracy: 0.7442 - val_loss: 0.3684 - val_accuracy: 0.8302\n",
            "Epoch 11/50\n",
            "24/24 - 1s - loss: 0.4974 - accuracy: 0.7442 - val_loss: 0.4210 - val_accuracy: 0.8302\n",
            "Epoch 12/50\n",
            "24/24 - 1s - loss: 0.4783 - accuracy: 0.7484 - val_loss: 0.3354 - val_accuracy: 0.8302\n",
            "Epoch 13/50\n",
            "24/24 - 1s - loss: 0.4421 - accuracy: 0.7717 - val_loss: 0.3686 - val_accuracy: 0.8679\n",
            "Epoch 14/50\n",
            "24/24 - 1s - loss: 0.4301 - accuracy: 0.7738 - val_loss: 0.3996 - val_accuracy: 0.8679\n",
            "Epoch 15/50\n",
            "24/24 - 1s - loss: 0.4233 - accuracy: 0.7632 - val_loss: 0.3235 - val_accuracy: 0.8491\n",
            "Epoch 16/50\n",
            "24/24 - 1s - loss: 0.4258 - accuracy: 0.7632 - val_loss: 0.3060 - val_accuracy: 0.8679\n",
            "Epoch 17/50\n",
            "24/24 - 1s - loss: 0.4094 - accuracy: 0.8013 - val_loss: 0.3825 - val_accuracy: 0.8302\n",
            "Epoch 18/50\n",
            "24/24 - 1s - loss: 0.3991 - accuracy: 0.8034 - val_loss: 0.3154 - val_accuracy: 0.8679\n",
            "Epoch 19/50\n",
            "24/24 - 1s - loss: 0.3852 - accuracy: 0.8013 - val_loss: 0.2971 - val_accuracy: 0.8491\n",
            "Epoch 20/50\n",
            "24/24 - 1s - loss: 0.3675 - accuracy: 0.8140 - val_loss: 0.3270 - val_accuracy: 0.8679\n",
            "Epoch 21/50\n",
            "24/24 - 1s - loss: 0.3525 - accuracy: 0.8436 - val_loss: 0.2914 - val_accuracy: 0.8679\n",
            "Epoch 22/50\n",
            "24/24 - 1s - loss: 0.3497 - accuracy: 0.8372 - val_loss: 0.3413 - val_accuracy: 0.8491\n",
            "Epoch 23/50\n",
            "24/24 - 1s - loss: 0.3289 - accuracy: 0.8393 - val_loss: 0.3169 - val_accuracy: 0.8491\n",
            "Epoch 24/50\n",
            "24/24 - 1s - loss: 0.3049 - accuracy: 0.8499 - val_loss: 0.2892 - val_accuracy: 0.8679\n",
            "Epoch 25/50\n",
            "24/24 - 1s - loss: 0.3091 - accuracy: 0.8562 - val_loss: 0.2783 - val_accuracy: 0.8868\n",
            "Epoch 26/50\n",
            "24/24 - 1s - loss: 0.3210 - accuracy: 0.8414 - val_loss: 0.2892 - val_accuracy: 0.8491\n",
            "Epoch 27/50\n",
            "24/24 - 1s - loss: 0.3334 - accuracy: 0.8584 - val_loss: 0.3069 - val_accuracy: 0.8491\n",
            "Epoch 28/50\n",
            "24/24 - 1s - loss: 0.3006 - accuracy: 0.8562 - val_loss: 0.2915 - val_accuracy: 0.8491\n",
            "Epoch 29/50\n",
            "24/24 - 1s - loss: 0.2965 - accuracy: 0.8668 - val_loss: 0.2732 - val_accuracy: 0.8868\n",
            "Epoch 30/50\n",
            "24/24 - 1s - loss: 0.2654 - accuracy: 0.8689 - val_loss: 0.2578 - val_accuracy: 0.8868\n",
            "Epoch 31/50\n",
            "24/24 - 1s - loss: 0.2967 - accuracy: 0.8795 - val_loss: 0.2888 - val_accuracy: 0.8868\n",
            "Epoch 32/50\n",
            "24/24 - 1s - loss: 0.2929 - accuracy: 0.8710 - val_loss: 0.2603 - val_accuracy: 0.8679\n",
            "Epoch 33/50\n",
            "24/24 - 1s - loss: 0.2688 - accuracy: 0.8816 - val_loss: 0.2500 - val_accuracy: 0.8679\n",
            "Epoch 34/50\n",
            "24/24 - 1s - loss: 0.2357 - accuracy: 0.9006 - val_loss: 0.3280 - val_accuracy: 0.8491\n",
            "Epoch 35/50\n",
            "24/24 - 1s - loss: 0.2745 - accuracy: 0.8668 - val_loss: 0.2871 - val_accuracy: 0.8113\n",
            "Epoch 36/50\n",
            "24/24 - 1s - loss: 0.2547 - accuracy: 0.8943 - val_loss: 0.3403 - val_accuracy: 0.8491\n",
            "Epoch 37/50\n",
            "24/24 - 1s - loss: 0.2639 - accuracy: 0.8647 - val_loss: 0.3369 - val_accuracy: 0.8491\n",
            "Epoch 38/50\n",
            "24/24 - 1s - loss: 0.2396 - accuracy: 0.8964 - val_loss: 0.2770 - val_accuracy: 0.8491\n"
          ],
          "name": "stdout"
        },
        {
          "output_type": "execute_result",
          "data": {
            "text/plain": [
              "<tensorflow.python.keras.callbacks.History at 0x7f81e0136b10>"
            ]
          },
          "metadata": {
            "tags": []
          },
          "execution_count": 14
        }
      ]
    },
    {
      "cell_type": "code",
      "metadata": {
        "id": "oBE23xZuwrCO",
        "colab": {
          "base_uri": "https://localhost:8080/"
        },
        "outputId": "e6648949-58ce-4b91-8bd7-5addba827d0b"
      },
      "source": [
        "model.evaluate(x_test_norm, y_test)"
      ],
      "execution_count": null,
      "outputs": [
        {
          "output_type": "stream",
          "text": [
            "2/2 [==============================] - 2s 889ms/step - loss: 0.4399 - accuracy: 0.8136\n"
          ],
          "name": "stdout"
        },
        {
          "output_type": "execute_result",
          "data": {
            "text/plain": [
              "[0.43986693024635315, 0.8135592937469482]"
            ]
          },
          "metadata": {
            "tags": []
          },
          "execution_count": 15
        }
      ]
    },
    {
      "cell_type": "code",
      "metadata": {
        "id": "GxRBRB1S-HKg"
      },
      "source": [
        "# y_test的圖片名子\n",
        "# y_test_imn_df"
      ],
      "execution_count": null,
      "outputs": []
    },
    {
      "cell_type": "code",
      "metadata": {
        "id": "8fp8GH6W4yJx",
        "colab": {
          "base_uri": "https://localhost:8080/"
        },
        "outputId": "01782f26-94aa-42ae-8bf7-77c7922f1576"
      },
      "source": [
        "# check wrong pics \n",
        "pre = model.predict(x_test_norm)\n",
        "pre_list = pre.reshape(len(y_test),).tolist()\n",
        "Proba_dic = {i:round(pre,3) for i, pre in enumerate(pre_list)}\n",
        "Proba_dic\n",
        "# pre_dic = {}\n",
        "# for i, pre in enumerate(pre_list):\n",
        "#   pre_dic[i] = pre\n",
        "pre_round_dic = {i:round(pre) for i, pre in enumerate(pre_list)}\n",
        "# pre_round_dic\n",
        "y_test_list = y_test.reshape(len(y_test),).tolist()\n",
        "y_test_dic = {i:pre for i, pre in enumerate(y_test_list)}\n",
        "# print(pre_dic.values())\n",
        "\n",
        "Proba_dic_value_list = list(Proba_dic.values())\n",
        "pre_round_value_list = list(pre_round_dic.values())\n",
        "y_test_value_list = list(y_test_dic.values())\n",
        "# print(\"y_test_ans\", y_test_dic.values())\n",
        "# print(pre_value_list)\n",
        "count = 0\n",
        "for i in range(len(y_test_list)): \n",
        "  if pre_round_value_list[i] != y_test_value_list[i]:\n",
        "    print(\"pic_name:\", y_test_imn_df[i], \n",
        "       \",Proba:\", Proba_dic_value_list[i],\n",
        "       \",pre_value:\", pre_round_value_list[i], \n",
        "       \",y_test_value:\", y_test_value_list[i])\n",
        "    count += 1\n",
        "\n",
        "# error_ratio\n",
        "# {:.2%}： 显示小数点后2位\n",
        "# >>> print('percent: {:.2%}'.format(42/50))\n",
        "# 不显示小数位：{:.0%}，即，将2改为0：\n",
        "# >>> print('percent: {:.0%}'.format(42/50))\n",
        "error_ratio = 'error_ratio: {:.0%}'.format(count/len(y_test_list))\n",
        "print(\"error_pics:\" + str(count)+ \"\\n\"+ \"total_pics:\"+ str(len(y_test_list)) +\"\\n\"+ error_ratio)"
      ],
      "execution_count": null,
      "outputs": [
        {
          "output_type": "stream",
          "text": [
            "pic_name: 3709 ,Proba: 0.766 ,pre_value: 1 ,y_test_value: 0\n",
            "pic_name: 8389 ,Proba: 0.466 ,pre_value: 0 ,y_test_value: 1\n",
            "pic_name: 2543 ,Proba: 0.839 ,pre_value: 1 ,y_test_value: 0\n",
            "pic_name: 163 ,Proba: 0.321 ,pre_value: 0 ,y_test_value: 1\n",
            "pic_name: 6846 ,Proba: 0.215 ,pre_value: 0 ,y_test_value: 1\n",
            "pic_name: 2289 ,Proba: 0.178 ,pre_value: 0 ,y_test_value: 1\n",
            "pic_name: 6908 ,Proba: 0.114 ,pre_value: 0 ,y_test_value: 1\n",
            "pic_name: 3451 ,Proba: 0.33 ,pre_value: 0 ,y_test_value: 1\n",
            "pic_name: 8594 ,Proba: 0.989 ,pre_value: 1 ,y_test_value: 0\n",
            "pic_name: 4879 ,Proba: 0.354 ,pre_value: 0 ,y_test_value: 1\n",
            "pic_name: 4595 ,Proba: 0.245 ,pre_value: 0 ,y_test_value: 1\n",
            "error_pics:11\n",
            "total_pics:59\n",
            "error_ratio: 19%\n"
          ],
          "name": "stdout"
        }
      ]
    },
    {
      "cell_type": "code",
      "metadata": {
        "id": "Iv8w_0Un9YVP",
        "colab": {
          "base_uri": "https://localhost:8080/",
          "height": 373
        },
        "outputId": "21989c59-ec23-4d3a-ddea-ac440f1f2ef7"
      },
      "source": [
        "# 用DataFrame 將錯誤的圖片做排序↓\n",
        "pic_info_dic = {\"Pic_name\":[],\n",
        "         \"Proba\":[],\n",
        "         \"pre_value\":[],\n",
        "         \"y_test_value\":[]\n",
        "        }\n",
        "for i in range(len(y_test_list)): \n",
        "  if pre_round_value_list[i] != y_test_value_list[i]:\n",
        "    pic_info_dic[\"Pic_name\"].append(y_test_imn_df[i])\n",
        "    pic_info_dic[\"Proba\"].append(Proba_dic_value_list[i])\n",
        "    pic_info_dic[\"pre_value\"].append(pre_round_value_list[i])\n",
        "    pic_info_dic[\"y_test_value\"].append(y_test_value_list[i])\n",
        "pic_info_dic_df = pd.DataFrame(pic_info_dic)\n",
        "pic_info_dic_s_df = pic_info_dic_df.sort_values(by=[\"Pic_name\"], ignore_index=True)\n",
        "pic_info_dic_s_df\n",
        "\n",
        "# 參考做法:\n",
        "# fn_dic = {\"img_name\":[]}\n",
        "# paths = sorted(glob.glob(\"0516_crop_shoulder_save_pics/*\"))\n",
        "# for path in paths:\n",
        "#   fn = path.split(\"/\")[-1].split(\".\")[0]\n",
        "#   fn_dic[\"img_name\"].append(fn)\n",
        "# fn_dic_df = pd.DataFrame(fn_dic)\n",
        "\n",
        "# 用DataFrame排序\n",
        "# df.sort_values(by=['col1'])\n",
        "# DataFrame.sort_values(by, axis=0, ascending=True, inplace=False, kind='quicksort', na_position='last', ignore_index=False, key=None)\n",
        "# https://pandas.pydata.org/docs/reference/api/pandas.DataFrame.sort_values.html\n",
        "\n"
      ],
      "execution_count": null,
      "outputs": [
        {
          "output_type": "execute_result",
          "data": {
            "text/html": [
              "<div>\n",
              "<style scoped>\n",
              "    .dataframe tbody tr th:only-of-type {\n",
              "        vertical-align: middle;\n",
              "    }\n",
              "\n",
              "    .dataframe tbody tr th {\n",
              "        vertical-align: top;\n",
              "    }\n",
              "\n",
              "    .dataframe thead th {\n",
              "        text-align: right;\n",
              "    }\n",
              "</style>\n",
              "<table border=\"1\" class=\"dataframe\">\n",
              "  <thead>\n",
              "    <tr style=\"text-align: right;\">\n",
              "      <th></th>\n",
              "      <th>Pic_name</th>\n",
              "      <th>Proba</th>\n",
              "      <th>pre_value</th>\n",
              "      <th>y_test_value</th>\n",
              "    </tr>\n",
              "  </thead>\n",
              "  <tbody>\n",
              "    <tr>\n",
              "      <th>0</th>\n",
              "      <td>163</td>\n",
              "      <td>0.321</td>\n",
              "      <td>0</td>\n",
              "      <td>1</td>\n",
              "    </tr>\n",
              "    <tr>\n",
              "      <th>1</th>\n",
              "      <td>2289</td>\n",
              "      <td>0.178</td>\n",
              "      <td>0</td>\n",
              "      <td>1</td>\n",
              "    </tr>\n",
              "    <tr>\n",
              "      <th>2</th>\n",
              "      <td>2543</td>\n",
              "      <td>0.839</td>\n",
              "      <td>1</td>\n",
              "      <td>0</td>\n",
              "    </tr>\n",
              "    <tr>\n",
              "      <th>3</th>\n",
              "      <td>3451</td>\n",
              "      <td>0.330</td>\n",
              "      <td>0</td>\n",
              "      <td>1</td>\n",
              "    </tr>\n",
              "    <tr>\n",
              "      <th>4</th>\n",
              "      <td>3709</td>\n",
              "      <td>0.766</td>\n",
              "      <td>1</td>\n",
              "      <td>0</td>\n",
              "    </tr>\n",
              "    <tr>\n",
              "      <th>5</th>\n",
              "      <td>4595</td>\n",
              "      <td>0.245</td>\n",
              "      <td>0</td>\n",
              "      <td>1</td>\n",
              "    </tr>\n",
              "    <tr>\n",
              "      <th>6</th>\n",
              "      <td>4879</td>\n",
              "      <td>0.354</td>\n",
              "      <td>0</td>\n",
              "      <td>1</td>\n",
              "    </tr>\n",
              "    <tr>\n",
              "      <th>7</th>\n",
              "      <td>6846</td>\n",
              "      <td>0.215</td>\n",
              "      <td>0</td>\n",
              "      <td>1</td>\n",
              "    </tr>\n",
              "    <tr>\n",
              "      <th>8</th>\n",
              "      <td>6908</td>\n",
              "      <td>0.114</td>\n",
              "      <td>0</td>\n",
              "      <td>1</td>\n",
              "    </tr>\n",
              "    <tr>\n",
              "      <th>9</th>\n",
              "      <td>8389</td>\n",
              "      <td>0.466</td>\n",
              "      <td>0</td>\n",
              "      <td>1</td>\n",
              "    </tr>\n",
              "    <tr>\n",
              "      <th>10</th>\n",
              "      <td>8594</td>\n",
              "      <td>0.989</td>\n",
              "      <td>1</td>\n",
              "      <td>0</td>\n",
              "    </tr>\n",
              "  </tbody>\n",
              "</table>\n",
              "</div>"
            ],
            "text/plain": [
              "    Pic_name  Proba  pre_value  y_test_value\n",
              "0        163  0.321          0             1\n",
              "1       2289  0.178          0             1\n",
              "2       2543  0.839          1             0\n",
              "3       3451  0.330          0             1\n",
              "4       3709  0.766          1             0\n",
              "5       4595  0.245          0             1\n",
              "6       4879  0.354          0             1\n",
              "7       6846  0.215          0             1\n",
              "8       6908  0.114          0             1\n",
              "9       8389  0.466          0             1\n",
              "10      8594  0.989          1             0"
            ]
          },
          "metadata": {
            "tags": []
          },
          "execution_count": 18
        }
      ]
    },
    {
      "cell_type": "markdown",
      "metadata": {
        "id": "Bzdhy_TOyWNM"
      },
      "source": [
        "loss: 0.4850, 0.2420, 0.4329, 0.532"
      ]
    },
    {
      "cell_type": "code",
      "metadata": {
        "id": "ibNzXTjO9MP1"
      },
      "source": [
        "# x_test_norm[0].shape\n",
        "# x_test_nomr_re = x_test_norm[0].reshape(1,256,256,3)\n",
        "# ans_names = ans_df.columns.tolist()"
      ],
      "execution_count": null,
      "outputs": []
    },
    {
      "cell_type": "code",
      "metadata": {
        "id": "kBDOoHiNw8Lj"
      },
      "source": [
        "# import pandas as pd\n",
        "# from sklearn.metrics import confusion_matrix\n",
        "# mat = confusion_matrix(y_test, pre)\n",
        "# pd.DataFrame(mat,\n",
        "#        columns=[y_train[i] + \"(預測)\" for i in range(10)],\n",
        "#        index=[y_train[i] + \"(正確)\" for i in range(10)])"
      ],
      "execution_count": null,
      "outputs": []
    },
    {
      "cell_type": "code",
      "metadata": {
        "id": "5x9KJZ0syo_d"
      },
      "source": [
        "# from PIL import Image\n",
        "# # RGB, RGBA, L(gray)\n",
        "# fn = input(\"輸入檔名:\")\n",
        "# img = Image.open(fn).resize((256, 256)).convert(\"RGB\")\n",
        "# img = img.resize((256,256))\n",
        "# img_np = np.array(img)\n",
        "# img_np_r = img_np.reshape(1, 256, 256, 3) / 255.0\n",
        "# pre = model.predict(img_np_r)[0]\n",
        "\n",
        "# # ans = model.predict_classes(img_np_r)[0]\n",
        "# # print(\"答案:\", proba)\n",
        "# pre_list = pre.tolist()\n",
        "\n",
        "# print(\"預測數值\", pre_list)\n",
        "\n",
        "# ans_sho_names = ans_df.columns.tolist()[1]\n",
        "# ans_sho_names\n",
        "\n",
        "# # ans_list = []\n",
        "# # for i, ans_name in enumerate(ans_names):\n",
        "# #   ans = round(pre_list[i])\n",
        "# #   ans_list.append(ans)\n",
        "# # print(\"T&F:\", ans_list)\n",
        "\n",
        "# ans_sho = round(pre_list[0])\n",
        "# print(\"T&F:\", ans_sho)\n",
        "\n",
        "# correct = []\n",
        "# wrong = []\n",
        "# if ans_sho == 1:\n",
        "#   wrong.append(ans_sho_names)\n",
        "# else:\n",
        "#   correct.append(ans_sho_names)\n",
        "# print(\"correct:\", correct)\n",
        "# print(\"wrong:\", wrong)\n",
        "# # plt.imshow(img_np)\n"
      ],
      "execution_count": null,
      "outputs": []
    }
  ]
}