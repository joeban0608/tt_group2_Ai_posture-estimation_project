{
  "nbformat": 4,
  "nbformat_minor": 0,
  "metadata": {
    "colab": {
      "name": "0505_ttgroup_project_cnn_gap_skeleton_show_error.ipynb",
      "provenance": [],
      "collapsed_sections": []
    },
    "kernelspec": {
      "name": "python3",
      "display_name": "Python 3"
    },
    "language_info": {
      "name": "python"
    },
    "accelerator": "GPU"
  },
  "cells": [
    {
      "cell_type": "code",
      "metadata": {
        "id": "nm8NRoBhlB9z",
        "colab": {
          "base_uri": "https://localhost:8080/"
        },
        "outputId": "234feea6-b2c9-44d9-d93f-9d2490ae6201"
      },
      "source": [
        "from google.colab import drive\n",
        "drive.mount('/content/drive')"
      ],
      "execution_count": null,
      "outputs": [
        {
          "output_type": "stream",
          "text": [
            "Drive already mounted at /content/drive; to attempt to forcibly remount, call drive.mount(\"/content/drive\", force_remount=True).\n"
          ],
          "name": "stdout"
        }
      ]
    },
    {
      "cell_type": "markdown",
      "metadata": {
        "id": "4FC8t-ykQ5yX"
      },
      "source": [
        "# **資料預處理**"
      ]
    },
    {
      "cell_type": "code",
      "metadata": {
        "id": "jtQBLTBVturv"
      },
      "source": [
        "from zipfile import ZipFile\n",
        "path = \"/content/drive/MyDrive/ttgroup/0_9000/0519_out_resize256x256_0_9000_skeleton.zip\"\n",
        "f = ZipFile(path)\n",
        "# f.extractall() 小括號是直接解壓縮在同一層\n",
        "f.extractall()"
      ],
      "execution_count": null,
      "outputs": []
    },
    {
      "cell_type": "code",
      "metadata": {
        "id": "MvY_715suucv",
        "colab": {
          "base_uri": "https://localhost:8080/",
          "height": 404
        },
        "outputId": "a1e12600-f8d7-4b8a-fb64-2a05c60b8b69"
      },
      "source": [
        "# 製作igm_name的list\n",
        "import glob\n",
        "import pandas as pd\n",
        "import numpy as np\n",
        "\n",
        "# sorted() : 排序所有可跌代對象\n",
        "# split() : 分割()\n",
        "fn_dic = {\"img_name\":[]}\n",
        "paths = sorted(glob.glob(\"0519_out_resize256x256_0_9000_skeleton/*\"))\n",
        "for path in paths:\n",
        "  fn = path.split(\"/\")[-1].split(\".\")[0]\n",
        "  fn_dic[\"img_name\"].append(fn)\n",
        "fn_dic_df = pd.DataFrame(fn_dic)\n",
        "fn_dic_df"
      ],
      "execution_count": null,
      "outputs": [
        {
          "output_type": "execute_result",
          "data": {
            "text/html": [
              "<div>\n",
              "<style scoped>\n",
              "    .dataframe tbody tr th:only-of-type {\n",
              "        vertical-align: middle;\n",
              "    }\n",
              "\n",
              "    .dataframe tbody tr th {\n",
              "        vertical-align: top;\n",
              "    }\n",
              "\n",
              "    .dataframe thead th {\n",
              "        text-align: right;\n",
              "    }\n",
              "</style>\n",
              "<table border=\"1\" class=\"dataframe\">\n",
              "  <thead>\n",
              "    <tr style=\"text-align: right;\">\n",
              "      <th></th>\n",
              "      <th>img_name</th>\n",
              "    </tr>\n",
              "  </thead>\n",
              "  <tbody>\n",
              "    <tr>\n",
              "      <th>0</th>\n",
              "      <td>0004</td>\n",
              "    </tr>\n",
              "    <tr>\n",
              "      <th>1</th>\n",
              "      <td>0044</td>\n",
              "    </tr>\n",
              "    <tr>\n",
              "      <th>2</th>\n",
              "      <td>0070</td>\n",
              "    </tr>\n",
              "    <tr>\n",
              "      <th>3</th>\n",
              "      <td>0089</td>\n",
              "    </tr>\n",
              "    <tr>\n",
              "      <th>4</th>\n",
              "      <td>0095</td>\n",
              "    </tr>\n",
              "    <tr>\n",
              "      <th>...</th>\n",
              "      <td>...</td>\n",
              "    </tr>\n",
              "    <tr>\n",
              "      <th>580</th>\n",
              "      <td>8868</td>\n",
              "    </tr>\n",
              "    <tr>\n",
              "      <th>581</th>\n",
              "      <td>8872</td>\n",
              "    </tr>\n",
              "    <tr>\n",
              "      <th>582</th>\n",
              "      <td>8877</td>\n",
              "    </tr>\n",
              "    <tr>\n",
              "      <th>583</th>\n",
              "      <td>8903</td>\n",
              "    </tr>\n",
              "    <tr>\n",
              "      <th>584</th>\n",
              "      <td>8933</td>\n",
              "    </tr>\n",
              "  </tbody>\n",
              "</table>\n",
              "<p>585 rows × 1 columns</p>\n",
              "</div>"
            ],
            "text/plain": [
              "    img_name\n",
              "0       0004\n",
              "1       0044\n",
              "2       0070\n",
              "3       0089\n",
              "4       0095\n",
              "..       ...\n",
              "580     8868\n",
              "581     8872\n",
              "582     8877\n",
              "583     8903\n",
              "584     8933\n",
              "\n",
              "[585 rows x 1 columns]"
            ]
          },
          "metadata": {
            "tags": []
          },
          "execution_count": 97
        }
      ]
    },
    {
      "cell_type": "code",
      "metadata": {
        "id": "zgi4440OWv_H",
        "colab": {
          "base_uri": "https://localhost:8080/"
        },
        "outputId": "d97134fc-293e-4364-deee-0bee73894ce4"
      },
      "source": [
        "# img_combine_arr 訓練資料DataFarme (x_train, x_test)\n",
        "from PIL import Image\n",
        "fn_list = fn_dic[\"img_name\"]\n",
        "\n",
        "# # RGB寫法\n",
        "img_arr_list = []\n",
        "for fn in fn_list:\n",
        "  img = Image.open(\"0519_out_resize256x256_0_9000_skeleton/\" + fn + \".jpg\").convert(\"RGB\")\n",
        "  img = img.resize((256, 256))\n",
        "  globals()[\"img_\"+ fn] = img\n",
        "  globals()[\"img_\"+ fn + \"_arr\"] = np.array(globals()[\"img_\"+fn])\n",
        "  img_arr_list.append(globals()[\"img_\"+ fn + \"_arr\"])\n",
        "  img.close()\n",
        "# img_arr_list = ()\n",
        "img_combine_arr = np.array(img_arr_list)\n",
        "img_combine_arr.shape\n",
        "# img_combine_arr[0]"
      ],
      "execution_count": null,
      "outputs": [
        {
          "output_type": "execute_result",
          "data": {
            "text/plain": [
              "(585, 256, 256, 3)"
            ]
          },
          "metadata": {
            "tags": []
          },
          "execution_count": 98
        }
      ]
    },
    {
      "cell_type": "code",
      "metadata": {
        "id": "DcKAKqF3R8QV"
      },
      "source": [
        "# ans_df  驗證資料DataFrame (y_train, y_test)\n",
        "base = \"/content/drive/MyDrive/ttgroup/0_9000/0519_wrong_total_sit_value_combinefoot_0_9000.csv\"\n",
        "csv = pd.read_csv(base, sep=\",\")\n",
        "# df.drop(['B', 'C'], axis=1)\n",
        "# ans_df.drop(['img_name'], axis=1)\n",
        "ans_df = pd.DataFrame(csv)\n"
      ],
      "execution_count": null,
      "outputs": []
    },
    {
      "cell_type": "code",
      "metadata": {
        "id": "Ttb_skDoV5_F"
      },
      "source": [
        "# 切割資料 x_train, x_test, y_train, y_test\n",
        "from sklearn.model_selection import train_test_split\n",
        "import numpy as np\n",
        "x_train, x_test, y_train, y_test = train_test_split(img_combine_arr,\n",
        "                             np.array(ans_df),\n",
        "                             test_size=0.1)"
      ],
      "execution_count": null,
      "outputs": []
    },
    {
      "cell_type": "code",
      "metadata": {
        "id": "CwNPJTHgYYUD",
        "colab": {
          "base_uri": "https://localhost:8080/"
        },
        "outputId": "2c7a8941-1fc4-4f42-c972-885b034a59b8"
      },
      "source": [
        "print(x_train.shape)\n",
        "print(y_train.shape)\n",
        "print(x_test.shape)\n",
        "print(y_test.shape)"
      ],
      "execution_count": null,
      "outputs": [
        {
          "output_type": "stream",
          "text": [
            "(526, 256, 256, 3)\n",
            "(526, 4)\n",
            "(59, 256, 256, 3)\n",
            "(59, 4)\n"
          ],
          "name": "stdout"
        }
      ]
    },
    {
      "cell_type": "code",
      "metadata": {
        "id": "2DczNCUinefF"
      },
      "source": [
        "# 將image_name 的y_train, y_test 拿出來\n",
        "y_train_imn_df = pd.DataFrame(y_train)[0]\n",
        "y_test_imn_df = pd.DataFrame(y_test)[0]\n",
        "\n",
        "\n",
        "# 將訓練跟測試答案 拿出來\n",
        "# .drop(['img_name'], axis=1)\n",
        "y_train_df = pd.DataFrame(y_train).drop([0], axis=1)\n",
        "y_test_df = pd.DataFrame(y_test).drop([0], axis=1)\n",
        "# y_train_df.shape\n",
        "# y_test_df.shape\n",
        "# print(len(y_test_df))\n",
        "# 將訓練跟測試的答案 轉回arr,並命名回 y_train, y_test\n",
        "y_train = np.array(y_train_df)\n",
        "y_test = np.array(y_test_df)\n"
      ],
      "execution_count": null,
      "outputs": []
    },
    {
      "cell_type": "code",
      "metadata": {
        "id": "8ly4gEHoU9fT",
        "colab": {
          "base_uri": "https://localhost:8080/",
          "height": 319
        },
        "outputId": "80b608e4-a997-46b3-b075-cc64468b4118"
      },
      "source": [
        "# 顯示圖片和標籤\n",
        "import random\n",
        "import matplotlib.pyplot as plt\n",
        "idx = random.randint(0, 260)\n",
        "print(idx)\n",
        "print(y_train[idx])\n",
        "plt.imshow(x_train[idx])"
      ],
      "execution_count": null,
      "outputs": [
        {
          "output_type": "stream",
          "text": [
            "240\n",
            "[1 1 1]\n"
          ],
          "name": "stdout"
        },
        {
          "output_type": "execute_result",
          "data": {
            "text/plain": [
              "<matplotlib.image.AxesImage at 0x7f08fd425950>"
            ]
          },
          "metadata": {
            "tags": []
          },
          "execution_count": 103
        },
        {
          "output_type": "display_data",
          "data": {
            "image/png": "[encoded data removed]",
            "text/plain": [
              "<Figure size 432x288 with 1 Axes>"
            ]
          },
          "metadata": {
            "tags": [],
            "needs_background": "light"
          }
        }
      ]
    },
    {
      "cell_type": "markdown",
      "metadata": {
        "id": "5jqnVnlRROyX"
      },
      "source": [
        "# **模型建置**"
      ]
    },
    {
      "cell_type": "code",
      "metadata": {
        "id": "Ry2YK-f1Yu5W",
        "colab": {
          "base_uri": "https://localhost:8080/"
        },
        "outputId": "120bb27f-4847-4f5d-b27a-abd1ca3790f0"
      },
      "source": [
        "from tensorflow.keras.models import Sequential\n",
        "from tensorflow.keras.layers import Conv2D, MaxPooling2D\n",
        "from tensorflow.keras.layers import Dense, Dropout, GlobalAveragePooling2D\n",
        "layers = [\n",
        "    Conv2D(64, 3, padding=\"same\", activation=\"relu\", input_shape=(256, 256, 3)),\n",
        "    MaxPooling2D(),\n",
        "    Conv2D(128, 3, padding=\"same\", activation=\"relu\"),\n",
        "    MaxPooling2D(),\n",
        "    Conv2D(256, 3, padding=\"same\", activation=\"relu\"),\n",
        "    MaxPooling2D(),\n",
        "    Conv2D(512, 3, padding=\"same\", activation=\"relu\"),\n",
        "    GlobalAveragePooling2D(),\n",
        "    Dense(3, activation=\"sigmoid\")\n",
        "]\n",
        "model = Sequential(layers)\n",
        "model.summary()"
      ],
      "execution_count": null,
      "outputs": [
        {
          "output_type": "stream",
          "text": [
            "Model: \"sequential_3\"\n",
            "_________________________________________________________________\n",
            "Layer (type)                 Output Shape              Param #   \n",
            "=================================================================\n",
            "conv2d_12 (Conv2D)           (None, 256, 256, 64)      1792      \n",
            "_________________________________________________________________\n",
            "max_pooling2d_9 (MaxPooling2 (None, 128, 128, 64)      0         \n",
            "_________________________________________________________________\n",
            "conv2d_13 (Conv2D)           (None, 128, 128, 128)     73856     \n",
            "_________________________________________________________________\n",
            "max_pooling2d_10 (MaxPooling (None, 64, 64, 128)       0         \n",
            "_________________________________________________________________\n",
            "conv2d_14 (Conv2D)           (None, 64, 64, 256)       295168    \n",
            "_________________________________________________________________\n",
            "max_pooling2d_11 (MaxPooling (None, 32, 32, 256)       0         \n",
            "_________________________________________________________________\n",
            "conv2d_15 (Conv2D)           (None, 32, 32, 512)       1180160   \n",
            "_________________________________________________________________\n",
            "global_average_pooling2d_3 ( (None, 512)               0         \n",
            "_________________________________________________________________\n",
            "dense_3 (Dense)              (None, 3)                 1539      \n",
            "=================================================================\n",
            "Total params: 1,552,515\n",
            "Trainable params: 1,552,515\n",
            "Non-trainable params: 0\n",
            "_________________________________________________________________\n"
          ],
          "name": "stdout"
        }
      ]
    },
    {
      "cell_type": "code",
      "metadata": {
        "id": "7F0Y3S8PESx-"
      },
      "source": [
        "from tensorflow.keras.losses import BinaryCrossentropy\n",
        "model.compile(loss=BinaryCrossentropy(),\n",
        "       optimizer=\"adam\",\n",
        "       metrics=[\"accuracy\"])"
      ],
      "execution_count": null,
      "outputs": []
    },
    {
      "cell_type": "code",
      "metadata": {
        "id": "_oj4f-HeEZR2"
      },
      "source": [
        "x_train_norm = x_train / 255\n",
        "x_test_norm = x_test / 255"
      ],
      "execution_count": null,
      "outputs": []
    },
    {
      "cell_type": "code",
      "metadata": {
        "id": "kIiKo2BPEbze",
        "colab": {
          "base_uri": "https://localhost:8080/"
        },
        "outputId": "fc0d1f08-c56c-4343-ac27-45125690f446"
      },
      "source": [
        "from tensorflow.keras.callbacks import EarlyStopping, ModelCheckpoint\n",
        "callbacks = [\n",
        "   EarlyStopping(patience=5, restore_best_weights=True),\n",
        "   ModelCheckpoint(\"cnn.h5\", save_best_only=True) \n",
        "]\n",
        "\n",
        "model.fit(x_train_norm,\n",
        "     y_train,\n",
        "     batch_size=20,\n",
        "     epochs=50,\n",
        "     validation_split=0.1,\n",
        "     verbose=2,\n",
        "     callbacks=callbacks)"
      ],
      "execution_count": null,
      "outputs": [
        {
          "output_type": "stream",
          "text": [
            "Epoch 1/50\n",
            "24/24 - 3s - loss: 0.5805 - accuracy: 0.2537 - val_loss: 0.5305 - val_accuracy: 0.2453\n",
            "Epoch 2/50\n",
            "24/24 - 2s - loss: 0.5550 - accuracy: 0.2368 - val_loss: 0.5188 - val_accuracy: 0.2453\n",
            "Epoch 3/50\n",
            "24/24 - 2s - loss: 0.5525 - accuracy: 0.5391 - val_loss: 0.5258 - val_accuracy: 0.2453\n",
            "Epoch 4/50\n",
            "24/24 - 2s - loss: 0.5528 - accuracy: 0.1987 - val_loss: 0.5192 - val_accuracy: 0.2453\n",
            "Epoch 5/50\n",
            "24/24 - 2s - loss: 0.5473 - accuracy: 0.2008 - val_loss: 0.5163 - val_accuracy: 0.2453\n",
            "Epoch 6/50\n",
            "24/24 - 2s - loss: 0.5396 - accuracy: 0.2030 - val_loss: 0.5148 - val_accuracy: 0.2453\n",
            "Epoch 7/50\n",
            "24/24 - 2s - loss: 0.5355 - accuracy: 0.2812 - val_loss: 0.5098 - val_accuracy: 0.2642\n",
            "Epoch 8/50\n",
            "24/24 - 2s - loss: 0.5249 - accuracy: 0.3002 - val_loss: 0.4964 - val_accuracy: 0.3585\n",
            "Epoch 9/50\n",
            "24/24 - 2s - loss: 0.5029 - accuracy: 0.3742 - val_loss: 0.5146 - val_accuracy: 0.6226\n",
            "Epoch 10/50\n",
            "24/24 - 2s - loss: 0.4964 - accuracy: 0.4101 - val_loss: 0.5314 - val_accuracy: 0.6604\n",
            "Epoch 11/50\n",
            "24/24 - 2s - loss: 0.5009 - accuracy: 0.4207 - val_loss: 0.5043 - val_accuracy: 0.3962\n",
            "Epoch 12/50\n",
            "24/24 - 2s - loss: 0.4829 - accuracy: 0.4440 - val_loss: 0.5116 - val_accuracy: 0.4151\n",
            "Epoch 13/50\n",
            "24/24 - 2s - loss: 0.4849 - accuracy: 0.4038 - val_loss: 0.4922 - val_accuracy: 0.4151\n",
            "Epoch 14/50\n",
            "24/24 - 2s - loss: 0.4788 - accuracy: 0.4292 - val_loss: 0.5023 - val_accuracy: 0.4151\n",
            "Epoch 15/50\n",
            "24/24 - 2s - loss: 0.4760 - accuracy: 0.3953 - val_loss: 0.5027 - val_accuracy: 0.4151\n",
            "Epoch 16/50\n",
            "24/24 - 2s - loss: 0.4765 - accuracy: 0.4249 - val_loss: 0.4930 - val_accuracy: 0.3962\n",
            "Epoch 17/50\n",
            "24/24 - 2s - loss: 0.4776 - accuracy: 0.4059 - val_loss: 0.5016 - val_accuracy: 0.4906\n",
            "Epoch 18/50\n",
            "24/24 - 2s - loss: 0.4788 - accuracy: 0.4207 - val_loss: 0.5031 - val_accuracy: 0.3962\n"
          ],
          "name": "stdout"
        },
        {
          "output_type": "execute_result",
          "data": {
            "text/plain": [
              "<tensorflow.python.keras.callbacks.History at 0x7f08fc8c7d90>"
            ]
          },
          "metadata": {
            "tags": []
          },
          "execution_count": 107
        }
      ]
    },
    {
      "cell_type": "code",
      "metadata": {
        "id": "oBE23xZuwrCO",
        "colab": {
          "base_uri": "https://localhost:8080/"
        },
        "outputId": "b5afa44a-f0ee-4b51-cbbf-61b9469d553c"
      },
      "source": [
        "model.evaluate(x_test_norm, y_test)"
      ],
      "execution_count": null,
      "outputs": [
        {
          "output_type": "stream",
          "text": [
            "2/2 [==============================] - 0s 36ms/step - loss: 0.4973 - accuracy: 0.3559\n"
          ],
          "name": "stdout"
        },
        {
          "output_type": "execute_result",
          "data": {
            "text/plain": [
              "[0.4972800016403198, 0.35593220591545105]"
            ]
          },
          "metadata": {
            "tags": []
          },
          "execution_count": 108
        }
      ]
    },
    {
      "cell_type": "code",
      "metadata": {
        "colab": {
          "base_uri": "https://localhost:8080/"
        },
        "id": "9MSDSdokdH-L",
        "outputId": "2911dd6f-0c08-4bb0-bc6e-55be8695543a"
      },
      "source": [
        "pre = model.predict(x_test_norm)\n",
        "# pre.shape\n",
        "pre.shape\n",
        "pre_list = pre.tolist()\n",
        "\n",
        "y_test.tolist()"
      ],
      "execution_count": null,
      "outputs": [
        {
          "output_type": "execute_result",
          "data": {
            "text/plain": [
              "[[1, 0, 0],\n",
              " [1, 0, 1],\n",
              " [1, 0, 1],\n",
              " [1, 0, 1],\n",
              " [1, 0, 1],\n",
              " [0, 0, 1],\n",
              " [1, 0, 0],\n",
              " [1, 1, 0],\n",
              " [0, 0, 1],\n",
              " [1, 1, 1],\n",
              " [1, 1, 1],\n",
              " [0, 0, 1],\n",
              " [1, 0, 1],\n",
              " [1, 0, 0],\n",
              " [1, 0, 1],\n",
              " [1, 0, 1],\n",
              " [1, 1, 0],\n",
              " [1, 1, 1],\n",
              " [0, 0, 1],\n",
              " [1, 0, 1],\n",
              " [1, 0, 1],\n",
              " [1, 0, 0],\n",
              " [1, 0, 1],\n",
              " [1, 0, 1],\n",
              " [1, 0, 1],\n",
              " [0, 0, 1],\n",
              " [1, 1, 1],\n",
              " [1, 0, 0],\n",
              " [0, 0, 1],\n",
              " [1, 1, 1],\n",
              " [0, 0, 1],\n",
              " [0, 0, 1],\n",
              " [1, 0, 1],\n",
              " [1, 0, 1],\n",
              " [0, 0, 1],\n",
              " [1, 0, 1],\n",
              " [1, 1, 1],\n",
              " [1, 0, 1],\n",
              " [0, 0, 1],\n",
              " [0, 0, 1],\n",
              " [1, 1, 1],\n",
              " [1, 0, 1],\n",
              " [1, 0, 1],\n",
              " [1, 1, 1],\n",
              " [1, 0, 1],\n",
              " [1, 1, 0],\n",
              " [0, 0, 1],\n",
              " [1, 0, 1],\n",
              " [1, 1, 1],\n",
              " [1, 0, 1],\n",
              " [1, 1, 1],\n",
              " [1, 1, 1],\n",
              " [1, 0, 0],\n",
              " [1, 0, 0],\n",
              " [1, 0, 1],\n",
              " [1, 1, 1],\n",
              " [1, 1, 1],\n",
              " [0, 0, 1],\n",
              " [1, 0, 1]]"
            ]
          },
          "metadata": {
            "tags": []
          },
          "execution_count": 109
        }
      ]
    },
    {
      "cell_type": "code",
      "metadata": {
        "colab": {
          "base_uri": "https://localhost:8080/"
        },
        "id": "s7LjrHoGdDNr",
        "outputId": "c52bb8eb-0920-4039-aae2-db99b363d06b"
      },
      "source": [
        "# check wrong pics \n",
        "\n",
        "# 製作預測機率值的dic\n",
        "pre = model.predict(x_test_norm)\n",
        "pre_list = pre.tolist()\n",
        "# pre_dic = {}\n",
        "# for i ,pre in enumerate(pre_list):\n",
        "#   pre_dic[i] = [round(p, 3)for p in pre] \n",
        "Proba_dic = {i:[round(p, 3)for p in pre] for i ,pre in enumerate(pre_list)}\n",
        "\n",
        "# 製作預測答案的dic\n",
        "pre_round_dic = {i:[round(p)for p in pre] for i ,pre in enumerate(pre_list)}\n",
        "# print(pre_round_dic)\n",
        "\n",
        "# 製作答案的dic\n",
        "y_test_list = y_test.tolist()\n",
        "y_test_dic = {i:pre for i, pre in enumerate(y_test_list)}\n",
        "# print(y_test_dic)\n",
        "\n",
        "Proba_dic_value_list = list(Proba_dic.values())\n",
        "pre_round_value_list = list(pre_round_dic.values())\n",
        "y_test_value_list = list(y_test_dic.values())\n",
        "# print(\"y_test_ans\", y_test_dic.values())\n",
        "# print(pre_value_list)\n",
        "count = 0\n",
        "for i in range(len(y_test_list)): \n",
        "  if pre_round_value_list[i] != y_test_value_list[i]:\n",
        "    print(\"pic_name:\", y_test_imn_df[i], \n",
        "       \",Proba:\", Proba_dic_value_list[i],\n",
        "       \",pre_value:\", pre_round_value_list[i], \n",
        "       \",y_test_value:\", y_test_value_list[i])\n",
        "    count += 1\n",
        "\n",
        "# error_ratio\n",
        "# {:.2%}： 显示小数点后2位\n",
        "# >>> print('percent: {:.2%}'.format(42/50))\n",
        "# 不显示小数位：{:.0%}，即，将2改为0：\n",
        "# >>> print('percent: {:.0%}'.format(42/50))\n",
        "error_ratio = 'error_ratio: {:.0%}'.format(count/len(y_test_list))\n",
        "print(\"error_pics:\" + str(count)+ \"\\n\"+ \"total_pics:\"+ str(len(y_test_list)) +\"\\n\"+ error_ratio)"
      ],
      "execution_count": null,
      "outputs": [
        {
          "output_type": "stream",
          "text": [
            "pic_name: 4879 ,Proba: [0.841, 0.246, 0.645] ,pre_value: [1, 0, 1] ,y_test_value: [1, 0, 0]\n",
            "pic_name: 4579 ,Proba: [0.798, 0.253, 0.78] ,pre_value: [1, 0, 1] ,y_test_value: [0, 0, 1]\n",
            "pic_name: 1430 ,Proba: [0.734, 0.251, 0.949] ,pre_value: [1, 0, 1] ,y_test_value: [1, 1, 0]\n",
            "pic_name: 2051 ,Proba: [0.69, 0.241, 0.788] ,pre_value: [1, 0, 1] ,y_test_value: [0, 0, 1]\n",
            "pic_name: 7362 ,Proba: [0.696, 0.265, 0.983] ,pre_value: [1, 0, 1] ,y_test_value: [1, 1, 1]\n",
            "pic_name: 6846 ,Proba: [0.687, 0.265, 0.974] ,pre_value: [1, 0, 1] ,y_test_value: [1, 1, 1]\n",
            "pic_name: 5600 ,Proba: [0.772, 0.235, 0.577] ,pre_value: [1, 0, 1] ,y_test_value: [0, 0, 1]\n",
            "pic_name: 8597 ,Proba: [0.791, 0.234, 0.404] ,pre_value: [1, 0, 0] ,y_test_value: [1, 0, 1]\n",
            "pic_name: 3288 ,Proba: [0.709, 0.251, 0.887] ,pre_value: [1, 0, 1] ,y_test_value: [1, 0, 0]\n",
            "pic_name: 8608 ,Proba: [0.91, 0.227, 0.101] ,pre_value: [1, 0, 0] ,y_test_value: [1, 1, 0]\n",
            "pic_name: 1529 ,Proba: [0.789, 0.265, 0.939] ,pre_value: [1, 0, 1] ,y_test_value: [1, 1, 1]\n",
            "pic_name: 5805 ,Proba: [0.697, 0.239, 0.676] ,pre_value: [1, 0, 1] ,y_test_value: [0, 0, 1]\n",
            "pic_name: 4711 ,Proba: [0.654, 0.262, 0.972] ,pre_value: [1, 0, 1] ,y_test_value: [0, 0, 1]\n",
            "pic_name: 4840 ,Proba: [0.7, 0.24, 0.732] ,pre_value: [1, 0, 1] ,y_test_value: [1, 1, 1]\n",
            "pic_name: 5665 ,Proba: [0.799, 0.258, 0.965] ,pre_value: [1, 0, 1] ,y_test_value: [0, 0, 1]\n",
            "pic_name: 2133 ,Proba: [0.673, 0.279, 0.988] ,pre_value: [1, 0, 1] ,y_test_value: [1, 1, 1]\n",
            "pic_name: 4662 ,Proba: [0.687, 0.261, 0.958] ,pre_value: [1, 0, 1] ,y_test_value: [0, 0, 1]\n",
            "pic_name: 6788 ,Proba: [0.725, 0.263, 0.97] ,pre_value: [1, 0, 1] ,y_test_value: [0, 0, 1]\n",
            "pic_name: 313 ,Proba: [0.69, 0.251, 0.934] ,pre_value: [1, 0, 1] ,y_test_value: [0, 0, 1]\n",
            "pic_name: 44 ,Proba: [0.702, 0.268, 0.987] ,pre_value: [1, 0, 1] ,y_test_value: [1, 1, 1]\n",
            "pic_name: 3337 ,Proba: [0.723, 0.238, 0.654] ,pre_value: [1, 0, 1] ,y_test_value: [0, 0, 1]\n",
            "pic_name: 4817 ,Proba: [0.775, 0.27, 0.994] ,pre_value: [1, 0, 1] ,y_test_value: [0, 0, 1]\n",
            "pic_name: 8595 ,Proba: [0.772, 0.236, 0.601] ,pre_value: [1, 0, 1] ,y_test_value: [1, 1, 1]\n",
            "pic_name: 4598 ,Proba: [0.854, 0.225, 0.245] ,pre_value: [1, 0, 0] ,y_test_value: [1, 1, 1]\n",
            "pic_name: 2201 ,Proba: [0.716, 0.25, 0.871] ,pre_value: [1, 0, 1] ,y_test_value: [1, 1, 0]\n",
            "pic_name: 7808 ,Proba: [0.712, 0.256, 0.941] ,pre_value: [1, 0, 1] ,y_test_value: [0, 0, 1]\n",
            "pic_name: 7715 ,Proba: [0.739, 0.258, 0.954] ,pre_value: [1, 0, 1] ,y_test_value: [1, 1, 1]\n",
            "pic_name: 1299 ,Proba: [0.808, 0.231, 0.292] ,pre_value: [1, 0, 0] ,y_test_value: [1, 1, 1]\n",
            "pic_name: 8522 ,Proba: [0.664, 0.279, 0.99] ,pre_value: [1, 0, 1] ,y_test_value: [1, 1, 1]\n",
            "pic_name: 8246 ,Proba: [0.754, 0.243, 0.829] ,pre_value: [1, 0, 1] ,y_test_value: [1, 0, 0]\n",
            "pic_name: 4916 ,Proba: [0.73, 0.243, 0.744] ,pre_value: [1, 0, 1] ,y_test_value: [1, 0, 0]\n",
            "pic_name: 1409 ,Proba: [0.685, 0.262, 0.973] ,pre_value: [1, 0, 1] ,y_test_value: [1, 1, 1]\n",
            "pic_name: 393 ,Proba: [0.684, 0.254, 0.935] ,pre_value: [1, 0, 1] ,y_test_value: [1, 1, 1]\n",
            "pic_name: 1174 ,Proba: [0.719, 0.233, 0.55] ,pre_value: [1, 0, 1] ,y_test_value: [0, 0, 1]\n",
            "error_pics:34\n",
            "total_pics:59\n",
            "error_ratio: 58%\n"
          ],
          "name": "stdout"
        }
      ]
    },
    {
      "cell_type": "code",
      "metadata": {
        "colab": {
          "base_uri": "https://localhost:8080/",
          "height": 1000
        },
        "id": "IUo7LOPayolU",
        "outputId": "447510bd-9314-4564-86f6-e82543d2e33e"
      },
      "source": [
        "# 將上述的錯誤圖片,用DataFrame 做排序\n",
        "pic_info_dic = {\"Pic_name\":[],\n",
        "         \"Proba\":[],\n",
        "         \"pre_value\":[],\n",
        "         \"y_test_value\":[]\n",
        "        }\n",
        "for i in range(len(y_test_list)): \n",
        "  if pre_round_value_list[i] != y_test_value_list[i]:\n",
        "    pic_info_dic[\"Pic_name\"].append(y_test_imn_df[i])\n",
        "    pic_info_dic[\"Proba\"].append(Proba_dic_value_list[i])\n",
        "    pic_info_dic[\"pre_value\"].append(pre_round_value_list[i])\n",
        "    pic_info_dic[\"y_test_value\"].append(y_test_value_list[i])\n",
        "pic_info_dic_df = pd.DataFrame(pic_info_dic)\n",
        "pic_info_dic_s_df = pic_info_dic_df.sort_values(by=[\"Pic_name\"], ignore_index=True)\n",
        "pic_info_dic_s_df"
      ],
      "execution_count": null,
      "outputs": [
        {
          "output_type": "execute_result",
          "data": {
            "text/html": [
              "<div>\n",
              "<style scoped>\n",
              "    .dataframe tbody tr th:only-of-type {\n",
              "        vertical-align: middle;\n",
              "    }\n",
              "\n",
              "    .dataframe tbody tr th {\n",
              "        vertical-align: top;\n",
              "    }\n",
              "\n",
              "    .dataframe thead th {\n",
              "        text-align: right;\n",
              "    }\n",
              "</style>\n",
              "<table border=\"1\" class=\"dataframe\">\n",
              "  <thead>\n",
              "    <tr style=\"text-align: right;\">\n",
              "      <th></th>\n",
              "      <th>Pic_name</th>\n",
              "      <th>Proba</th>\n",
              "      <th>pre_value</th>\n",
              "      <th>y_test_value</th>\n",
              "    </tr>\n",
              "  </thead>\n",
              "  <tbody>\n",
              "    <tr>\n",
              "      <th>0</th>\n",
              "      <td>44</td>\n",
              "      <td>[0.702, 0.268, 0.987]</td>\n",
              "      <td>[1, 0, 1]</td>\n",
              "      <td>[1, 1, 1]</td>\n",
              "    </tr>\n",
              "    <tr>\n",
              "      <th>1</th>\n",
              "      <td>313</td>\n",
              "      <td>[0.69, 0.251, 0.934]</td>\n",
              "      <td>[1, 0, 1]</td>\n",
              "      <td>[0, 0, 1]</td>\n",
              "    </tr>\n",
              "    <tr>\n",
              "      <th>2</th>\n",
              "      <td>393</td>\n",
              "      <td>[0.684, 0.254, 0.935]</td>\n",
              "      <td>[1, 0, 1]</td>\n",
              "      <td>[1, 1, 1]</td>\n",
              "    </tr>\n",
              "    <tr>\n",
              "      <th>3</th>\n",
              "      <td>1174</td>\n",
              "      <td>[0.719, 0.233, 0.55]</td>\n",
              "      <td>[1, 0, 1]</td>\n",
              "      <td>[0, 0, 1]</td>\n",
              "    </tr>\n",
              "    <tr>\n",
              "      <th>4</th>\n",
              "      <td>1299</td>\n",
              "      <td>[0.808, 0.231, 0.292]</td>\n",
              "      <td>[1, 0, 0]</td>\n",
              "      <td>[1, 1, 1]</td>\n",
              "    </tr>\n",
              "    <tr>\n",
              "      <th>5</th>\n",
              "      <td>1409</td>\n",
              "      <td>[0.685, 0.262, 0.973]</td>\n",
              "      <td>[1, 0, 1]</td>\n",
              "      <td>[1, 1, 1]</td>\n",
              "    </tr>\n",
              "    <tr>\n",
              "      <th>6</th>\n",
              "      <td>1430</td>\n",
              "      <td>[0.734, 0.251, 0.949]</td>\n",
              "      <td>[1, 0, 1]</td>\n",
              "      <td>[1, 1, 0]</td>\n",
              "    </tr>\n",
              "    <tr>\n",
              "      <th>7</th>\n",
              "      <td>1529</td>\n",
              "      <td>[0.789, 0.265, 0.939]</td>\n",
              "      <td>[1, 0, 1]</td>\n",
              "      <td>[1, 1, 1]</td>\n",
              "    </tr>\n",
              "    <tr>\n",
              "      <th>8</th>\n",
              "      <td>2051</td>\n",
              "      <td>[0.69, 0.241, 0.788]</td>\n",
              "      <td>[1, 0, 1]</td>\n",
              "      <td>[0, 0, 1]</td>\n",
              "    </tr>\n",
              "    <tr>\n",
              "      <th>9</th>\n",
              "      <td>2133</td>\n",
              "      <td>[0.673, 0.279, 0.988]</td>\n",
              "      <td>[1, 0, 1]</td>\n",
              "      <td>[1, 1, 1]</td>\n",
              "    </tr>\n",
              "    <tr>\n",
              "      <th>10</th>\n",
              "      <td>2201</td>\n",
              "      <td>[0.716, 0.25, 0.871]</td>\n",
              "      <td>[1, 0, 1]</td>\n",
              "      <td>[1, 1, 0]</td>\n",
              "    </tr>\n",
              "    <tr>\n",
              "      <th>11</th>\n",
              "      <td>3288</td>\n",
              "      <td>[0.709, 0.251, 0.887]</td>\n",
              "      <td>[1, 0, 1]</td>\n",
              "      <td>[1, 0, 0]</td>\n",
              "    </tr>\n",
              "    <tr>\n",
              "      <th>12</th>\n",
              "      <td>3337</td>\n",
              "      <td>[0.723, 0.238, 0.654]</td>\n",
              "      <td>[1, 0, 1]</td>\n",
              "      <td>[0, 0, 1]</td>\n",
              "    </tr>\n",
              "    <tr>\n",
              "      <th>13</th>\n",
              "      <td>4579</td>\n",
              "      <td>[0.798, 0.253, 0.78]</td>\n",
              "      <td>[1, 0, 1]</td>\n",
              "      <td>[0, 0, 1]</td>\n",
              "    </tr>\n",
              "    <tr>\n",
              "      <th>14</th>\n",
              "      <td>4598</td>\n",
              "      <td>[0.854, 0.225, 0.245]</td>\n",
              "      <td>[1, 0, 0]</td>\n",
              "      <td>[1, 1, 1]</td>\n",
              "    </tr>\n",
              "    <tr>\n",
              "      <th>15</th>\n",
              "      <td>4662</td>\n",
              "      <td>[0.687, 0.261, 0.958]</td>\n",
              "      <td>[1, 0, 1]</td>\n",
              "      <td>[0, 0, 1]</td>\n",
              "    </tr>\n",
              "    <tr>\n",
              "      <th>16</th>\n",
              "      <td>4711</td>\n",
              "      <td>[0.654, 0.262, 0.972]</td>\n",
              "      <td>[1, 0, 1]</td>\n",
              "      <td>[0, 0, 1]</td>\n",
              "    </tr>\n",
              "    <tr>\n",
              "      <th>17</th>\n",
              "      <td>4817</td>\n",
              "      <td>[0.775, 0.27, 0.994]</td>\n",
              "      <td>[1, 0, 1]</td>\n",
              "      <td>[0, 0, 1]</td>\n",
              "    </tr>\n",
              "    <tr>\n",
              "      <th>18</th>\n",
              "      <td>4840</td>\n",
              "      <td>[0.7, 0.24, 0.732]</td>\n",
              "      <td>[1, 0, 1]</td>\n",
              "      <td>[1, 1, 1]</td>\n",
              "    </tr>\n",
              "    <tr>\n",
              "      <th>19</th>\n",
              "      <td>4879</td>\n",
              "      <td>[0.841, 0.246, 0.645]</td>\n",
              "      <td>[1, 0, 1]</td>\n",
              "      <td>[1, 0, 0]</td>\n",
              "    </tr>\n",
              "    <tr>\n",
              "      <th>20</th>\n",
              "      <td>4916</td>\n",
              "      <td>[0.73, 0.243, 0.744]</td>\n",
              "      <td>[1, 0, 1]</td>\n",
              "      <td>[1, 0, 0]</td>\n",
              "    </tr>\n",
              "    <tr>\n",
              "      <th>21</th>\n",
              "      <td>5600</td>\n",
              "      <td>[0.772, 0.235, 0.577]</td>\n",
              "      <td>[1, 0, 1]</td>\n",
              "      <td>[0, 0, 1]</td>\n",
              "    </tr>\n",
              "    <tr>\n",
              "      <th>22</th>\n",
              "      <td>5665</td>\n",
              "      <td>[0.799, 0.258, 0.965]</td>\n",
              "      <td>[1, 0, 1]</td>\n",
              "      <td>[0, 0, 1]</td>\n",
              "    </tr>\n",
              "    <tr>\n",
              "      <th>23</th>\n",
              "      <td>5805</td>\n",
              "      <td>[0.697, 0.239, 0.676]</td>\n",
              "      <td>[1, 0, 1]</td>\n",
              "      <td>[0, 0, 1]</td>\n",
              "    </tr>\n",
              "    <tr>\n",
              "      <th>24</th>\n",
              "      <td>6788</td>\n",
              "      <td>[0.725, 0.263, 0.97]</td>\n",
              "      <td>[1, 0, 1]</td>\n",
              "      <td>[0, 0, 1]</td>\n",
              "    </tr>\n",
              "    <tr>\n",
              "      <th>25</th>\n",
              "      <td>6846</td>\n",
              "      <td>[0.687, 0.265, 0.974]</td>\n",
              "      <td>[1, 0, 1]</td>\n",
              "      <td>[1, 1, 1]</td>\n",
              "    </tr>\n",
              "    <tr>\n",
              "      <th>26</th>\n",
              "      <td>7362</td>\n",
              "      <td>[0.696, 0.265, 0.983]</td>\n",
              "      <td>[1, 0, 1]</td>\n",
              "      <td>[1, 1, 1]</td>\n",
              "    </tr>\n",
              "    <tr>\n",
              "      <th>27</th>\n",
              "      <td>7715</td>\n",
              "      <td>[0.739, 0.258, 0.954]</td>\n",
              "      <td>[1, 0, 1]</td>\n",
              "      <td>[1, 1, 1]</td>\n",
              "    </tr>\n",
              "    <tr>\n",
              "      <th>28</th>\n",
              "      <td>7808</td>\n",
              "      <td>[0.712, 0.256, 0.941]</td>\n",
              "      <td>[1, 0, 1]</td>\n",
              "      <td>[0, 0, 1]</td>\n",
              "    </tr>\n",
              "    <tr>\n",
              "      <th>29</th>\n",
              "      <td>8246</td>\n",
              "      <td>[0.754, 0.243, 0.829]</td>\n",
              "      <td>[1, 0, 1]</td>\n",
              "      <td>[1, 0, 0]</td>\n",
              "    </tr>\n",
              "    <tr>\n",
              "      <th>30</th>\n",
              "      <td>8522</td>\n",
              "      <td>[0.664, 0.279, 0.99]</td>\n",
              "      <td>[1, 0, 1]</td>\n",
              "      <td>[1, 1, 1]</td>\n",
              "    </tr>\n",
              "    <tr>\n",
              "      <th>31</th>\n",
              "      <td>8595</td>\n",
              "      <td>[0.772, 0.236, 0.601]</td>\n",
              "      <td>[1, 0, 1]</td>\n",
              "      <td>[1, 1, 1]</td>\n",
              "    </tr>\n",
              "    <tr>\n",
              "      <th>32</th>\n",
              "      <td>8597</td>\n",
              "      <td>[0.791, 0.234, 0.404]</td>\n",
              "      <td>[1, 0, 0]</td>\n",
              "      <td>[1, 0, 1]</td>\n",
              "    </tr>\n",
              "    <tr>\n",
              "      <th>33</th>\n",
              "      <td>8608</td>\n",
              "      <td>[0.91, 0.227, 0.101]</td>\n",
              "      <td>[1, 0, 0]</td>\n",
              "      <td>[1, 1, 0]</td>\n",
              "    </tr>\n",
              "  </tbody>\n",
              "</table>\n",
              "</div>"
            ],
            "text/plain": [
              "    Pic_name                  Proba  pre_value y_test_value\n",
              "0         44  [0.702, 0.268, 0.987]  [1, 0, 1]    [1, 1, 1]\n",
              "1        313   [0.69, 0.251, 0.934]  [1, 0, 1]    [0, 0, 1]\n",
              "2        393  [0.684, 0.254, 0.935]  [1, 0, 1]    [1, 1, 1]\n",
              "3       1174   [0.719, 0.233, 0.55]  [1, 0, 1]    [0, 0, 1]\n",
              "4       1299  [0.808, 0.231, 0.292]  [1, 0, 0]    [1, 1, 1]\n",
              "5       1409  [0.685, 0.262, 0.973]  [1, 0, 1]    [1, 1, 1]\n",
              "6       1430  [0.734, 0.251, 0.949]  [1, 0, 1]    [1, 1, 0]\n",
              "7       1529  [0.789, 0.265, 0.939]  [1, 0, 1]    [1, 1, 1]\n",
              "8       2051   [0.69, 0.241, 0.788]  [1, 0, 1]    [0, 0, 1]\n",
              "9       2133  [0.673, 0.279, 0.988]  [1, 0, 1]    [1, 1, 1]\n",
              "10      2201   [0.716, 0.25, 0.871]  [1, 0, 1]    [1, 1, 0]\n",
              "11      3288  [0.709, 0.251, 0.887]  [1, 0, 1]    [1, 0, 0]\n",
              "12      3337  [0.723, 0.238, 0.654]  [1, 0, 1]    [0, 0, 1]\n",
              "13      4579   [0.798, 0.253, 0.78]  [1, 0, 1]    [0, 0, 1]\n",
              "14      4598  [0.854, 0.225, 0.245]  [1, 0, 0]    [1, 1, 1]\n",
              "15      4662  [0.687, 0.261, 0.958]  [1, 0, 1]    [0, 0, 1]\n",
              "16      4711  [0.654, 0.262, 0.972]  [1, 0, 1]    [0, 0, 1]\n",
              "17      4817   [0.775, 0.27, 0.994]  [1, 0, 1]    [0, 0, 1]\n",
              "18      4840     [0.7, 0.24, 0.732]  [1, 0, 1]    [1, 1, 1]\n",
              "19      4879  [0.841, 0.246, 0.645]  [1, 0, 1]    [1, 0, 0]\n",
              "20      4916   [0.73, 0.243, 0.744]  [1, 0, 1]    [1, 0, 0]\n",
              "21      5600  [0.772, 0.235, 0.577]  [1, 0, 1]    [0, 0, 1]\n",
              "22      5665  [0.799, 0.258, 0.965]  [1, 0, 1]    [0, 0, 1]\n",
              "23      5805  [0.697, 0.239, 0.676]  [1, 0, 1]    [0, 0, 1]\n",
              "24      6788   [0.725, 0.263, 0.97]  [1, 0, 1]    [0, 0, 1]\n",
              "25      6846  [0.687, 0.265, 0.974]  [1, 0, 1]    [1, 1, 1]\n",
              "26      7362  [0.696, 0.265, 0.983]  [1, 0, 1]    [1, 1, 1]\n",
              "27      7715  [0.739, 0.258, 0.954]  [1, 0, 1]    [1, 1, 1]\n",
              "28      7808  [0.712, 0.256, 0.941]  [1, 0, 1]    [0, 0, 1]\n",
              "29      8246  [0.754, 0.243, 0.829]  [1, 0, 1]    [1, 0, 0]\n",
              "30      8522   [0.664, 0.279, 0.99]  [1, 0, 1]    [1, 1, 1]\n",
              "31      8595  [0.772, 0.236, 0.601]  [1, 0, 1]    [1, 1, 1]\n",
              "32      8597  [0.791, 0.234, 0.404]  [1, 0, 0]    [1, 0, 1]\n",
              "33      8608   [0.91, 0.227, 0.101]  [1, 0, 0]    [1, 1, 0]"
            ]
          },
          "metadata": {
            "tags": []
          },
          "execution_count": 111
        }
      ]
    },
    {
      "cell_type": "code",
      "metadata": {
        "id": "ibNzXTjO9MP1"
      },
      "source": [
        "# x_test_norm[0].shape\n",
        "# x_test_nomr_re = x_test_norm[0].reshape(1,256,256,3)\n",
        "# ans_names = ans_df.columns.tolist()"
      ],
      "execution_count": null,
      "outputs": []
    },
    {
      "cell_type": "code",
      "metadata": {
        "id": "kBDOoHiNw8Lj"
      },
      "source": [
        "# import pandas as pd\n",
        "# from sklearn.metrics import confusion_matrix\n",
        "# mat = confusion_matrix(y_test, pre)\n",
        "# pd.DataFrame(mat,\n",
        "#        columns=[y_train[i] + \"(預測)\" for i in range(10)],\n",
        "#        index=[y_train[i] + \"(正確)\" for i in range(10)])"
      ],
      "execution_count": null,
      "outputs": []
    },
    {
      "cell_type": "code",
      "metadata": {
        "id": "5x9KJZ0syo_d",
        "colab": {
          "base_uri": "https://localhost:8080/",
          "height": 521
        },
        "outputId": "116a5670-9b6e-40ca-e6cf-64c858a4e463"
      },
      "source": [
        "from PIL import Image\n",
        "# RGB, RGBA, L(gray)\n",
        "fn = input(\"輸入檔名:\")\n",
        "img = Image.open(fn).resize((256, 256)).convert(\"RGB\")\n",
        "img_np = np.array(img)\n",
        "img_np_r = img_np.reshape(1, 256, 256, 3) / 255.0\n",
        "pre = model.predict(img_np_r)[0]\n",
        "\n",
        "pre_list = pre.tolist()\n",
        "print(\"預測數值\", pre_list)\n",
        "\n",
        "ans_names = ans_df.columns.tolist()\n",
        "ans_list = []\n",
        "for i, ans_name in enumerate(ans_names):\n",
        "  ans = round(pre_list[i])\n",
        "  ans_list.append(ans)\n",
        "print(\"T&F:\", ans_list)\n",
        "\n",
        "correct = []\n",
        "wrong = []\n",
        "for i, ans_val in enumerate(ans_list):\n",
        "  if ans_val == 1:\n",
        "    wrong.append(ans_names[i])\n",
        "  else:\n",
        "    correct.append(ans_names[i])\n",
        "print(\"correct:\", correct)\n",
        "print(\"wrong:\", wrong)\n",
        "plt.imshow(img_np)"
      ],
      "execution_count": null,
      "outputs": [
        {
          "output_type": "error",
          "ename": "KeyboardInterrupt",
          "evalue": "ignored",
          "traceback": [
            "\u001b[0;31m---------------------------------------------------------------------------\u001b[0m",
            "\u001b[0;31mKeyboardInterrupt\u001b[0m                         Traceback (most recent call last)",
            "\u001b[0;32m/usr/local/lib/python3.7/dist-packages/ipykernel/kernelbase.py\u001b[0m in \u001b[0;36m_input_request\u001b[0;34m(self, prompt, ident, parent, password)\u001b[0m\n\u001b[1;32m    728\u001b[0m             \u001b[0;32mtry\u001b[0m\u001b[0;34m:\u001b[0m\u001b[0;34m\u001b[0m\u001b[0;34m\u001b[0m\u001b[0m\n\u001b[0;32m--> 729\u001b[0;31m                 \u001b[0mident\u001b[0m\u001b[0;34m,\u001b[0m \u001b[0mreply\u001b[0m \u001b[0;34m=\u001b[0m \u001b[0mself\u001b[0m\u001b[0;34m.\u001b[0m\u001b[0msession\u001b[0m\u001b[0;34m.\u001b[0m\u001b[0mrecv\u001b[0m\u001b[0;34m(\u001b[0m\u001b[0mself\u001b[0m\u001b[0;34m.\u001b[0m\u001b[0mstdin_socket\u001b[0m\u001b[0;34m,\u001b[0m \u001b[0;36m0\u001b[0m\u001b[0;34m)\u001b[0m\u001b[0;34m\u001b[0m\u001b[0;34m\u001b[0m\u001b[0m\n\u001b[0m\u001b[1;32m    730\u001b[0m             \u001b[0;32mexcept\u001b[0m \u001b[0mException\u001b[0m\u001b[0;34m:\u001b[0m\u001b[0;34m\u001b[0m\u001b[0;34m\u001b[0m\u001b[0m\n",
            "\u001b[0;32m/usr/local/lib/python3.7/dist-packages/jupyter_client/session.py\u001b[0m in \u001b[0;36mrecv\u001b[0;34m(self, socket, mode, content, copy)\u001b[0m\n\u001b[1;32m    802\u001b[0m         \u001b[0;32mtry\u001b[0m\u001b[0;34m:\u001b[0m\u001b[0;34m\u001b[0m\u001b[0;34m\u001b[0m\u001b[0m\n\u001b[0;32m--> 803\u001b[0;31m             \u001b[0mmsg_list\u001b[0m \u001b[0;34m=\u001b[0m \u001b[0msocket\u001b[0m\u001b[0;34m.\u001b[0m\u001b[0mrecv_multipart\u001b[0m\u001b[0;34m(\u001b[0m\u001b[0mmode\u001b[0m\u001b[0;34m,\u001b[0m \u001b[0mcopy\u001b[0m\u001b[0;34m=\u001b[0m\u001b[0mcopy\u001b[0m\u001b[0;34m)\u001b[0m\u001b[0;34m\u001b[0m\u001b[0;34m\u001b[0m\u001b[0m\n\u001b[0m\u001b[1;32m    804\u001b[0m         \u001b[0;32mexcept\u001b[0m \u001b[0mzmq\u001b[0m\u001b[0;34m.\u001b[0m\u001b[0mZMQError\u001b[0m \u001b[0;32mas\u001b[0m \u001b[0me\u001b[0m\u001b[0;34m:\u001b[0m\u001b[0;34m\u001b[0m\u001b[0;34m\u001b[0m\u001b[0m\n",
            "\u001b[0;32m/usr/local/lib/python3.7/dist-packages/zmq/sugar/socket.py\u001b[0m in \u001b[0;36mrecv_multipart\u001b[0;34m(self, flags, copy, track)\u001b[0m\n\u001b[1;32m    582\u001b[0m         \"\"\"\n\u001b[0;32m--> 583\u001b[0;31m         \u001b[0mparts\u001b[0m \u001b[0;34m=\u001b[0m \u001b[0;34m[\u001b[0m\u001b[0mself\u001b[0m\u001b[0;34m.\u001b[0m\u001b[0mrecv\u001b[0m\u001b[0;34m(\u001b[0m\u001b[0mflags\u001b[0m\u001b[0;34m,\u001b[0m \u001b[0mcopy\u001b[0m\u001b[0;34m=\u001b[0m\u001b[0mcopy\u001b[0m\u001b[0;34m,\u001b[0m \u001b[0mtrack\u001b[0m\u001b[0;34m=\u001b[0m\u001b[0mtrack\u001b[0m\u001b[0;34m)\u001b[0m\u001b[0;34m]\u001b[0m\u001b[0;34m\u001b[0m\u001b[0;34m\u001b[0m\u001b[0m\n\u001b[0m\u001b[1;32m    584\u001b[0m         \u001b[0;31m# have first part already, only loop while more to receive\u001b[0m\u001b[0;34m\u001b[0m\u001b[0;34m\u001b[0m\u001b[0;34m\u001b[0m\u001b[0m\n",
            "\u001b[0;32mzmq/backend/cython/socket.pyx\u001b[0m in \u001b[0;36mzmq.backend.cython.socket.Socket.recv\u001b[0;34m()\u001b[0m\n",
            "\u001b[0;32mzmq/backend/cython/socket.pyx\u001b[0m in \u001b[0;36mzmq.backend.cython.socket.Socket.recv\u001b[0;34m()\u001b[0m\n",
            "\u001b[0;32mzmq/backend/cython/socket.pyx\u001b[0m in \u001b[0;36mzmq.backend.cython.socket._recv_copy\u001b[0;34m()\u001b[0m\n",
            "\u001b[0;32m/usr/local/lib/python3.7/dist-packages/zmq/backend/cython/checkrc.pxd\u001b[0m in \u001b[0;36mzmq.backend.cython.checkrc._check_rc\u001b[0;34m()\u001b[0m\n",
            "\u001b[0;31mKeyboardInterrupt\u001b[0m: ",
            "\nDuring handling of the above exception, another exception occurred:\n",
            "\u001b[0;31mKeyboardInterrupt\u001b[0m                         Traceback (most recent call last)",
            "\u001b[0;32m<ipython-input-114-68595fc8ec97>\u001b[0m in \u001b[0;36m<module>\u001b[0;34m()\u001b[0m\n\u001b[1;32m      1\u001b[0m \u001b[0;32mfrom\u001b[0m \u001b[0mPIL\u001b[0m \u001b[0;32mimport\u001b[0m \u001b[0mImage\u001b[0m\u001b[0;34m\u001b[0m\u001b[0;34m\u001b[0m\u001b[0m\n\u001b[1;32m      2\u001b[0m \u001b[0;31m# RGB, RGBA, L(gray)\u001b[0m\u001b[0;34m\u001b[0m\u001b[0;34m\u001b[0m\u001b[0;34m\u001b[0m\u001b[0m\n\u001b[0;32m----> 3\u001b[0;31m \u001b[0mfn\u001b[0m \u001b[0;34m=\u001b[0m \u001b[0minput\u001b[0m\u001b[0;34m(\u001b[0m\u001b[0;34m\"輸入檔名:\"\u001b[0m\u001b[0;34m)\u001b[0m\u001b[0;34m\u001b[0m\u001b[0;34m\u001b[0m\u001b[0m\n\u001b[0m\u001b[1;32m      4\u001b[0m \u001b[0mimg\u001b[0m \u001b[0;34m=\u001b[0m \u001b[0mImage\u001b[0m\u001b[0;34m.\u001b[0m\u001b[0mopen\u001b[0m\u001b[0;34m(\u001b[0m\u001b[0mfn\u001b[0m\u001b[0;34m)\u001b[0m\u001b[0;34m.\u001b[0m\u001b[0mresize\u001b[0m\u001b[0;34m(\u001b[0m\u001b[0;34m(\u001b[0m\u001b[0;36m256\u001b[0m\u001b[0;34m,\u001b[0m \u001b[0;36m256\u001b[0m\u001b[0;34m)\u001b[0m\u001b[0;34m)\u001b[0m\u001b[0;34m.\u001b[0m\u001b[0mconvert\u001b[0m\u001b[0;34m(\u001b[0m\u001b[0;34m\"RGB\"\u001b[0m\u001b[0;34m)\u001b[0m\u001b[0;34m\u001b[0m\u001b[0;34m\u001b[0m\u001b[0m\n\u001b[1;32m      5\u001b[0m \u001b[0mimg_np\u001b[0m \u001b[0;34m=\u001b[0m \u001b[0mnp\u001b[0m\u001b[0;34m.\u001b[0m\u001b[0marray\u001b[0m\u001b[0;34m(\u001b[0m\u001b[0mimg\u001b[0m\u001b[0;34m)\u001b[0m\u001b[0;34m\u001b[0m\u001b[0;34m\u001b[0m\u001b[0m\n",
            "\u001b[0;32m/usr/local/lib/python3.7/dist-packages/ipykernel/kernelbase.py\u001b[0m in \u001b[0;36mraw_input\u001b[0;34m(self, prompt)\u001b[0m\n\u001b[1;32m    702\u001b[0m             \u001b[0mself\u001b[0m\u001b[0;34m.\u001b[0m\u001b[0m_parent_ident\u001b[0m\u001b[0;34m,\u001b[0m\u001b[0;34m\u001b[0m\u001b[0;34m\u001b[0m\u001b[0m\n\u001b[1;32m    703\u001b[0m             \u001b[0mself\u001b[0m\u001b[0;34m.\u001b[0m\u001b[0m_parent_header\u001b[0m\u001b[0;34m,\u001b[0m\u001b[0;34m\u001b[0m\u001b[0;34m\u001b[0m\u001b[0m\n\u001b[0;32m--> 704\u001b[0;31m             \u001b[0mpassword\u001b[0m\u001b[0;34m=\u001b[0m\u001b[0;32mFalse\u001b[0m\u001b[0;34m,\u001b[0m\u001b[0;34m\u001b[0m\u001b[0;34m\u001b[0m\u001b[0m\n\u001b[0m\u001b[1;32m    705\u001b[0m         )\n\u001b[1;32m    706\u001b[0m \u001b[0;34m\u001b[0m\u001b[0m\n",
            "\u001b[0;32m/usr/local/lib/python3.7/dist-packages/ipykernel/kernelbase.py\u001b[0m in \u001b[0;36m_input_request\u001b[0;34m(self, prompt, ident, parent, password)\u001b[0m\n\u001b[1;32m    732\u001b[0m             \u001b[0;32mexcept\u001b[0m \u001b[0mKeyboardInterrupt\u001b[0m\u001b[0;34m:\u001b[0m\u001b[0;34m\u001b[0m\u001b[0;34m\u001b[0m\u001b[0m\n\u001b[1;32m    733\u001b[0m                 \u001b[0;31m# re-raise KeyboardInterrupt, to truncate traceback\u001b[0m\u001b[0;34m\u001b[0m\u001b[0;34m\u001b[0m\u001b[0;34m\u001b[0m\u001b[0m\n\u001b[0;32m--> 734\u001b[0;31m                 \u001b[0;32mraise\u001b[0m \u001b[0mKeyboardInterrupt\u001b[0m\u001b[0;34m\u001b[0m\u001b[0;34m\u001b[0m\u001b[0m\n\u001b[0m\u001b[1;32m    735\u001b[0m             \u001b[0;32melse\u001b[0m\u001b[0;34m:\u001b[0m\u001b[0;34m\u001b[0m\u001b[0;34m\u001b[0m\u001b[0m\n\u001b[1;32m    736\u001b[0m                 \u001b[0;32mbreak\u001b[0m\u001b[0;34m\u001b[0m\u001b[0;34m\u001b[0m\u001b[0m\n",
            "\u001b[0;31mKeyboardInterrupt\u001b[0m: "
          ]
        }
      ]
    }
  ]
}