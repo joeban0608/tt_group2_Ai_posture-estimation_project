{
  "nbformat": 4,
  "nbformat_minor": 0,
  "metadata": {
    "colab": {
      "name": "0505_ttgroup_project_cnn_gap_skeleton_by柏翰.ipynb",
      "provenance": [],
      "collapsed_sections": [],
      "toc_visible": true
    },
    "kernelspec": {
      "name": "python3",
      "display_name": "Python 3"
    },
    "language_info": {
      "name": "python"
    },
    "accelerator": "GPU"
  },
  "cells": [
    {
      "cell_type": "code",
      "metadata": {
        "id": "nm8NRoBhlB9z",
        "colab": {
          "base_uri": "https://localhost:8080/"
        },
        "outputId": "85bc00f8-ca2e-43d9-9e67-cb9f0fe27473"
      },
      "source": [
        "from google.colab import drive\n",
        "drive.mount('/content/drive')"
      ],
      "execution_count": null,
      "outputs": [
        {
          "output_type": "stream",
          "text": [
            "Drive already mounted at /content/drive; to attempt to forcibly remount, call drive.mount(\"/content/drive\", force_remount=True).\n"
          ],
          "name": "stdout"
        }
      ]
    },
    {
      "cell_type": "markdown",
      "metadata": {
        "id": "4FC8t-ykQ5yX"
      },
      "source": [
        "# **資料預處理**"
      ]
    },
    {
      "cell_type": "code",
      "metadata": {
        "id": "jtQBLTBVturv"
      },
      "source": [
        "from zipfile import ZipFile\n",
        "path = \"/content/drive/MyDrive/ttgroup/0_9000/0519_out_resize256x256_0_9000_skeleton.zip\"\n",
        "f = ZipFile(path)\n",
        "# f.extractall() 小括號是直接解壓縮在同一層\n",
        "f.extractall()"
      ],
      "execution_count": null,
      "outputs": []
    },
    {
      "cell_type": "code",
      "metadata": {
        "id": "MvY_715suucv",
        "colab": {
          "base_uri": "https://localhost:8080/",
          "height": 402
        },
        "outputId": "0fca72bb-9f29-465a-a1d7-65455299a4b9"
      },
      "source": [
        "# 製作igm_name的list\n",
        "import glob\n",
        "import pandas as pd\n",
        "import numpy as np\n",
        "\n",
        "# sorted() : 排序所有可跌代對象\n",
        "# split() : 分割()\n",
        "fn_dic = {\"img_name\":[]}\n",
        "paths = sorted(glob.glob(\"0519_out_resize256x256_0_9000_skeleton/*\"))\n",
        "for path in paths:\n",
        "  fn = path.split(\"/\")[-1].split(\".\")[0]\n",
        "  fn_dic[\"img_name\"].append(fn)\n",
        "fn_dic_df = pd.DataFrame(fn_dic)\n",
        "fn_dic_df"
      ],
      "execution_count": null,
      "outputs": [
        {
          "output_type": "execute_result",
          "data": {
            "text/html": [
              "<div>\n",
              "<style scoped>\n",
              "    .dataframe tbody tr th:only-of-type {\n",
              "        vertical-align: middle;\n",
              "    }\n",
              "\n",
              "    .dataframe tbody tr th {\n",
              "        vertical-align: top;\n",
              "    }\n",
              "\n",
              "    .dataframe thead th {\n",
              "        text-align: right;\n",
              "    }\n",
              "</style>\n",
              "<table border=\"1\" class=\"dataframe\">\n",
              "  <thead>\n",
              "    <tr style=\"text-align: right;\">\n",
              "      <th></th>\n",
              "      <th>img_name</th>\n",
              "    </tr>\n",
              "  </thead>\n",
              "  <tbody>\n",
              "    <tr>\n",
              "      <th>0</th>\n",
              "      <td>0004</td>\n",
              "    </tr>\n",
              "    <tr>\n",
              "      <th>1</th>\n",
              "      <td>0044</td>\n",
              "    </tr>\n",
              "    <tr>\n",
              "      <th>2</th>\n",
              "      <td>0070</td>\n",
              "    </tr>\n",
              "    <tr>\n",
              "      <th>3</th>\n",
              "      <td>0089</td>\n",
              "    </tr>\n",
              "    <tr>\n",
              "      <th>4</th>\n",
              "      <td>0095</td>\n",
              "    </tr>\n",
              "    <tr>\n",
              "      <th>...</th>\n",
              "      <td>...</td>\n",
              "    </tr>\n",
              "    <tr>\n",
              "      <th>580</th>\n",
              "      <td>8868</td>\n",
              "    </tr>\n",
              "    <tr>\n",
              "      <th>581</th>\n",
              "      <td>8872</td>\n",
              "    </tr>\n",
              "    <tr>\n",
              "      <th>582</th>\n",
              "      <td>8877</td>\n",
              "    </tr>\n",
              "    <tr>\n",
              "      <th>583</th>\n",
              "      <td>8903</td>\n",
              "    </tr>\n",
              "    <tr>\n",
              "      <th>584</th>\n",
              "      <td>8933</td>\n",
              "    </tr>\n",
              "  </tbody>\n",
              "</table>\n",
              "<p>585 rows × 1 columns</p>\n",
              "</div>"
            ],
            "text/plain": [
              "    img_name\n",
              "0       0004\n",
              "1       0044\n",
              "2       0070\n",
              "3       0089\n",
              "4       0095\n",
              "..       ...\n",
              "580     8868\n",
              "581     8872\n",
              "582     8877\n",
              "583     8903\n",
              "584     8933\n",
              "\n",
              "[585 rows x 1 columns]"
            ]
          },
          "metadata": {
            "tags": []
          },
          "execution_count": 23
        }
      ]
    },
    {
      "cell_type": "code",
      "metadata": {
        "id": "zgi4440OWv_H",
        "colab": {
          "base_uri": "https://localhost:8080/"
        },
        "outputId": "cd68367d-29ea-403f-ca7a-e26e258b3905"
      },
      "source": [
        "# img_combine_arr 訓練資料DataFarme (x_train, x_test)\n",
        "from PIL import Image\n",
        "fn_list = fn_dic[\"img_name\"]\n",
        "\n",
        "# # RGB寫法\n",
        "img_arr_list = []\n",
        "for fn in fn_list:\n",
        "  img = Image.open(\"0519_out_resize256x256_0_9000_skeleton/\" + fn + \".jpg\").convert(\"RGB\")\n",
        "  img = img.resize((256, 256))\n",
        "  globals()[\"img_\"+ fn] = img\n",
        "  globals()[\"img_\"+ fn + \"_arr\"] = np.array(globals()[\"img_\"+fn])\n",
        "  img_arr_list.append(globals()[\"img_\"+ fn + \"_arr\"])\n",
        "  img.close()\n",
        "# img_arr_list = ()\n",
        "img_combine_arr = np.array(img_arr_list)\n",
        "img_combine_arr.shape\n",
        "# img_combine_arr[0]"
      ],
      "execution_count": null,
      "outputs": [
        {
          "output_type": "execute_result",
          "data": {
            "text/plain": [
              "(585, 256, 256, 3)"
            ]
          },
          "metadata": {
            "tags": []
          },
          "execution_count": 24
        }
      ]
    },
    {
      "cell_type": "code",
      "metadata": {
        "id": "DcKAKqF3R8QV",
        "colab": {
          "base_uri": "https://localhost:8080/",
          "height": 402
        },
        "outputId": "28c486ff-6d12-40a5-e92c-ab5b50ebfc12"
      },
      "source": [
        "# ans_df  驗證資料DataFrame (y_train, y_test)\n",
        "base = \"/content/drive/MyDrive/ttgroup/0_9000/0519_wrong_total_sit_value_combinefoot_0_9000.csv\"\n",
        "csv = pd.read_csv(base, sep=\",\")\n",
        "ans_df = pd.DataFrame(csv)\n",
        "ans_df = ans_df.drop([\"img_name\"], axis=1)\n",
        "ans_arr = np.array(ans_df)\n",
        "ans_df"
      ],
      "execution_count": null,
      "outputs": [
        {
          "output_type": "execute_result",
          "data": {
            "text/html": [
              "<div>\n",
              "<style scoped>\n",
              "    .dataframe tbody tr th:only-of-type {\n",
              "        vertical-align: middle;\n",
              "    }\n",
              "\n",
              "    .dataframe tbody tr th {\n",
              "        vertical-align: top;\n",
              "    }\n",
              "\n",
              "    .dataframe thead th {\n",
              "        text-align: right;\n",
              "    }\n",
              "</style>\n",
              "<table border=\"1\" class=\"dataframe\">\n",
              "  <thead>\n",
              "    <tr style=\"text-align: right;\">\n",
              "      <th></th>\n",
              "      <th>head</th>\n",
              "      <th>shoulder</th>\n",
              "      <th>foot</th>\n",
              "    </tr>\n",
              "  </thead>\n",
              "  <tbody>\n",
              "    <tr>\n",
              "      <th>0</th>\n",
              "      <td>1</td>\n",
              "      <td>0</td>\n",
              "      <td>1</td>\n",
              "    </tr>\n",
              "    <tr>\n",
              "      <th>1</th>\n",
              "      <td>1</td>\n",
              "      <td>1</td>\n",
              "      <td>1</td>\n",
              "    </tr>\n",
              "    <tr>\n",
              "      <th>2</th>\n",
              "      <td>1</td>\n",
              "      <td>1</td>\n",
              "      <td>1</td>\n",
              "    </tr>\n",
              "    <tr>\n",
              "      <th>3</th>\n",
              "      <td>1</td>\n",
              "      <td>0</td>\n",
              "      <td>1</td>\n",
              "    </tr>\n",
              "    <tr>\n",
              "      <th>4</th>\n",
              "      <td>1</td>\n",
              "      <td>0</td>\n",
              "      <td>1</td>\n",
              "    </tr>\n",
              "    <tr>\n",
              "      <th>...</th>\n",
              "      <td>...</td>\n",
              "      <td>...</td>\n",
              "      <td>...</td>\n",
              "    </tr>\n",
              "    <tr>\n",
              "      <th>580</th>\n",
              "      <td>1</td>\n",
              "      <td>0</td>\n",
              "      <td>0</td>\n",
              "    </tr>\n",
              "    <tr>\n",
              "      <th>581</th>\n",
              "      <td>0</td>\n",
              "      <td>0</td>\n",
              "      <td>1</td>\n",
              "    </tr>\n",
              "    <tr>\n",
              "      <th>582</th>\n",
              "      <td>1</td>\n",
              "      <td>0</td>\n",
              "      <td>0</td>\n",
              "    </tr>\n",
              "    <tr>\n",
              "      <th>583</th>\n",
              "      <td>0</td>\n",
              "      <td>0</td>\n",
              "      <td>1</td>\n",
              "    </tr>\n",
              "    <tr>\n",
              "      <th>584</th>\n",
              "      <td>0</td>\n",
              "      <td>0</td>\n",
              "      <td>1</td>\n",
              "    </tr>\n",
              "  </tbody>\n",
              "</table>\n",
              "<p>585 rows × 3 columns</p>\n",
              "</div>"
            ],
            "text/plain": [
              "     head  shoulder  foot\n",
              "0       1         0     1\n",
              "1       1         1     1\n",
              "2       1         1     1\n",
              "3       1         0     1\n",
              "4       1         0     1\n",
              "..    ...       ...   ...\n",
              "580     1         0     0\n",
              "581     0         0     1\n",
              "582     1         0     0\n",
              "583     0         0     1\n",
              "584     0         0     1\n",
              "\n",
              "[585 rows x 3 columns]"
            ]
          },
          "metadata": {
            "tags": []
          },
          "execution_count": 25
        }
      ]
    },
    {
      "cell_type": "code",
      "metadata": {
        "id": "Ttb_skDoV5_F"
      },
      "source": [
        "# 切割資料 x_train, x_test, y_train, y_test\n",
        "from sklearn.model_selection import train_test_split\n",
        "import numpy as np\n",
        "x_train, x_test, y_train, y_test = train_test_split(img_combine_arr,\n",
        "                             ans_arr,\n",
        "                             test_size=0.1)"
      ],
      "execution_count": null,
      "outputs": []
    },
    {
      "cell_type": "code",
      "metadata": {
        "id": "CwNPJTHgYYUD",
        "colab": {
          "base_uri": "https://localhost:8080/"
        },
        "outputId": "cf11e996-1c91-4c1b-a4cb-6829db6e3dec"
      },
      "source": [
        "print(x_train.shape)\n",
        "print(y_train.shape)\n",
        "print(x_test.shape)\n",
        "print(y_test.shape)"
      ],
      "execution_count": null,
      "outputs": [
        {
          "output_type": "stream",
          "text": [
            "(526, 256, 256, 3)\n",
            "(526, 3)\n",
            "(59, 256, 256, 3)\n",
            "(59, 3)\n"
          ],
          "name": "stdout"
        }
      ]
    },
    {
      "cell_type": "code",
      "metadata": {
        "id": "8ly4gEHoU9fT",
        "colab": {
          "base_uri": "https://localhost:8080/",
          "height": 319
        },
        "outputId": "9a727695-6f4c-4414-d8ab-47455a29f225"
      },
      "source": [
        "# 顯示圖片和標籤\n",
        "import random\n",
        "import matplotlib.pyplot as plt\n",
        "idx = random.randint(0, 260)\n",
        "print(idx)\n",
        "print(y_train[idx])\n",
        "plt.imshow(x_train[idx])"
      ],
      "execution_count": null,
      "outputs": [
        {
          "output_type": "stream",
          "text": [
            "80\n",
            "[1 0 0]\n"
          ],
          "name": "stdout"
        },
        {
          "output_type": "execute_result",
          "data": {
            "text/plain": [
              "<matplotlib.image.AxesImage at 0x7f614413e690>"
            ]
          },
          "metadata": {
            "tags": []
          },
          "execution_count": 28
        },
        {
          "output_type": "display_data",
          "data": {
            "image/png": "[encoded data removed]",
            "text/plain": [
              "<Figure size 432x288 with 1 Axes>"
            ]
          },
          "metadata": {
            "tags": [],
            "needs_background": "light"
          }
        }
      ]
    },
    {
      "cell_type": "markdown",
      "metadata": {
        "id": "5jqnVnlRROyX"
      },
      "source": [
        "# **模型建置**"
      ]
    },
    {
      "cell_type": "code",
      "metadata": {
        "id": "Ry2YK-f1Yu5W",
        "colab": {
          "base_uri": "https://localhost:8080/"
        },
        "outputId": "58677fce-7df2-4d0d-bf22-15a26324c966"
      },
      "source": [
        "from tensorflow.keras.models import Sequential\n",
        "from tensorflow.keras.layers import Conv2D, MaxPooling2D\n",
        "from tensorflow.keras.layers import Dense, Dropout, GlobalAveragePooling2D\n",
        "layers = [\n",
        "    Conv2D(64, 3, padding=\"same\", activation=\"relu\", input_shape=(256, 256, 3)),\n",
        "    MaxPooling2D(),\n",
        "    Conv2D(128, 3, padding=\"same\", activation=\"relu\"),\n",
        "    MaxPooling2D(),\n",
        "    Conv2D(256, 3, padding=\"same\", activation=\"relu\"),\n",
        "    MaxPooling2D(),\n",
        "    Conv2D(512, 3, padding=\"same\", activation=\"relu\"),\n",
        "    GlobalAveragePooling2D(),\n",
        "    Dense(3, activation=\"sigmoid\")\n",
        "]\n",
        "model = Sequential(layers)\n",
        "model.summary()"
      ],
      "execution_count": null,
      "outputs": [
        {
          "output_type": "stream",
          "text": [
            "Model: \"sequential_1\"\n",
            "_________________________________________________________________\n",
            "Layer (type)                 Output Shape              Param #   \n",
            "=================================================================\n",
            "conv2d_5 (Conv2D)            (None, 256, 256, 64)      1792      \n",
            "_________________________________________________________________\n",
            "max_pooling2d_4 (MaxPooling2 (None, 128, 128, 64)      0         \n",
            "_________________________________________________________________\n",
            "conv2d_6 (Conv2D)            (None, 128, 128, 128)     73856     \n",
            "_________________________________________________________________\n",
            "max_pooling2d_5 (MaxPooling2 (None, 64, 64, 128)       0         \n",
            "_________________________________________________________________\n",
            "conv2d_7 (Conv2D)            (None, 64, 64, 256)       295168    \n",
            "_________________________________________________________________\n",
            "max_pooling2d_6 (MaxPooling2 (None, 32, 32, 256)       0         \n",
            "_________________________________________________________________\n",
            "conv2d_8 (Conv2D)            (None, 32, 32, 512)       1180160   \n",
            "_________________________________________________________________\n",
            "global_average_pooling2d_1 ( (None, 512)               0         \n",
            "_________________________________________________________________\n",
            "dense_1 (Dense)              (None, 3)                 1539      \n",
            "=================================================================\n",
            "Total params: 1,552,515\n",
            "Trainable params: 1,552,515\n",
            "Non-trainable params: 0\n",
            "_________________________________________________________________\n"
          ],
          "name": "stdout"
        }
      ]
    },
    {
      "cell_type": "code",
      "metadata": {
        "id": "7F0Y3S8PESx-"
      },
      "source": [
        "from tensorflow.keras.losses import BinaryCrossentropy\n",
        "model.compile(loss=BinaryCrossentropy(),\n",
        "       optimizer=\"adam\",\n",
        "       metrics=[\"accuracy\"])"
      ],
      "execution_count": null,
      "outputs": []
    },
    {
      "cell_type": "code",
      "metadata": {
        "id": "_oj4f-HeEZR2"
      },
      "source": [
        "x_train_norm = x_train / 255\n",
        "x_test_norm = x_test / 255"
      ],
      "execution_count": null,
      "outputs": []
    },
    {
      "cell_type": "code",
      "metadata": {
        "id": "kIiKo2BPEbze",
        "colab": {
          "base_uri": "https://localhost:8080/"
        },
        "outputId": "d141c445-3af6-4428-d83a-deac26553537"
      },
      "source": [
        "from tensorflow.keras.callbacks import EarlyStopping, ModelCheckpoint\n",
        "callbacks = [\n",
        "   EarlyStopping(patience=5, restore_best_weights=True),\n",
        "   ModelCheckpoint(\"cnn.h5\", save_best_only=True) \n",
        "]\n",
        "\n",
        "model.fit(x_train_norm,\n",
        "     y_train,\n",
        "     batch_size=20,\n",
        "     epochs=50,\n",
        "     validation_split=0.1,\n",
        "     verbose=2,\n",
        "     callbacks=callbacks)"
      ],
      "execution_count": null,
      "outputs": [
        {
          "output_type": "stream",
          "text": [
            "Epoch 1/50\n",
            "24/24 - 2s - loss: 0.3725 - accuracy: 0.6216 - val_loss: 0.3776 - val_accuracy: 0.6038\n",
            "Epoch 2/50\n",
            "24/24 - 2s - loss: 0.3527 - accuracy: 0.6237 - val_loss: 0.4092 - val_accuracy: 0.5283\n",
            "Epoch 3/50\n",
            "24/24 - 2s - loss: 0.3443 - accuracy: 0.6364 - val_loss: 0.4048 - val_accuracy: 0.6038\n",
            "Epoch 4/50\n",
            "24/24 - 2s - loss: 0.3424 - accuracy: 0.6448 - val_loss: 0.4063 - val_accuracy: 0.5472\n",
            "Epoch 5/50\n",
            "24/24 - 2s - loss: 0.3367 - accuracy: 0.6427 - val_loss: 0.4667 - val_accuracy: 0.4340\n",
            "Epoch 6/50\n",
            "24/24 - 2s - loss: 0.3354 - accuracy: 0.6300 - val_loss: 0.3775 - val_accuracy: 0.5472\n",
            "Epoch 7/50\n",
            "24/24 - 2s - loss: 0.3154 - accuracy: 0.6575 - val_loss: 0.3767 - val_accuracy: 0.6226\n",
            "Epoch 8/50\n",
            "24/24 - 2s - loss: 0.3077 - accuracy: 0.6596 - val_loss: 0.4031 - val_accuracy: 0.5849\n",
            "Epoch 9/50\n",
            "24/24 - 2s - loss: 0.2935 - accuracy: 0.6681 - val_loss: 0.3695 - val_accuracy: 0.6415\n",
            "Epoch 10/50\n",
            "24/24 - 2s - loss: 0.3062 - accuracy: 0.6596 - val_loss: 0.3768 - val_accuracy: 0.6226\n",
            "Epoch 11/50\n",
            "24/24 - 2s - loss: 0.2870 - accuracy: 0.6871 - val_loss: 0.4835 - val_accuracy: 0.4906\n",
            "Epoch 12/50\n",
            "24/24 - 2s - loss: 0.2791 - accuracy: 0.6998 - val_loss: 0.3901 - val_accuracy: 0.6038\n",
            "Epoch 13/50\n",
            "24/24 - 2s - loss: 0.2734 - accuracy: 0.6829 - val_loss: 0.4078 - val_accuracy: 0.6038\n",
            "Epoch 14/50\n",
            "24/24 - 2s - loss: 0.2583 - accuracy: 0.6934 - val_loss: 0.4211 - val_accuracy: 0.6038\n"
          ],
          "name": "stdout"
        },
        {
          "output_type": "execute_result",
          "data": {
            "text/plain": [
              "<tensorflow.python.keras.callbacks.History at 0x7f609e6cac50>"
            ]
          },
          "metadata": {
            "tags": []
          },
          "execution_count": 36
        }
      ]
    },
    {
      "cell_type": "code",
      "metadata": {
        "id": "oBE23xZuwrCO",
        "colab": {
          "base_uri": "https://localhost:8080/"
        },
        "outputId": "e4def3d6-717d-485f-beab-8b0969337953"
      },
      "source": [
        "model.evaluate(x_test_norm, y_test)"
      ],
      "execution_count": null,
      "outputs": [
        {
          "output_type": "stream",
          "text": [
            "2/2 [==============================] - 0s 58ms/step - loss: 0.3398 - accuracy: 0.7797\n"
          ],
          "name": "stdout"
        },
        {
          "output_type": "execute_result",
          "data": {
            "text/plain": [
              "[0.3398074805736542, 0.7796609997749329]"
            ]
          },
          "metadata": {
            "tags": []
          },
          "execution_count": 37
        }
      ]
    },
    {
      "cell_type": "code",
      "metadata": {
        "id": "5x9KJZ0syo_d",
        "colab": {
          "base_uri": "https://localhost:8080/",
          "height": 425
        },
        "outputId": "b868c262-2833-422c-b7ce-7ffb6c75e959"
      },
      "source": [
        "from PIL import Image\n",
        "fn = input(\"輸入檔名:\")\n",
        "img = Image.open(fn).resize((256, 256)).convert(\"RGB\")\n",
        "img_np = np.array(img)\n",
        "img_np_r = img_np.reshape(1, 256, 256, 3) / 255.0\n",
        "pre = model.predict(img_np_r)[0]\n",
        "\n",
        "pre_list = pre.tolist()\n",
        "print(\"預測數值\", pre_list)\n",
        "\n",
        "ans_names = ans_df.columns.tolist()\n",
        "ans_list = []\n",
        "for i, ans_name in enumerate(ans_names):\n",
        "  ans = round(pre_list[i])\n",
        "  ans_list.append(ans)\n",
        "print(\"T&F:\", ans_list)\n",
        "\n",
        "correct = []\n",
        "wrong = []\n",
        "for i, ans_val in enumerate(ans_list):\n",
        "  if ans_val == 1:\n",
        "    wrong.append(ans_names[i])\n",
        "  else:\n",
        "    correct.append(ans_names[i])\n",
        "print(\"correct:\", correct)\n",
        "print(\"wrong:\", wrong)\n",
        "plt.imshow(img_np)\n",
        "t = \"[name]:{}\\n[P]:{}\\n[T&F]:{}\\n[correct]:{}\\n[worng]:{}\".format(ans_names,\n",
        "                             [round(f,3) for f in pre_list], \n",
        "                             ans_list,\n",
        "                             correct,\n",
        "                             wrong)\n",
        "plt.title(t)\n",
        "plt.axis(\"off\")"
      ],
      "execution_count": null,
      "outputs": [
        {
          "output_type": "stream",
          "text": [
            "輸入檔名:/content/sho_ft_non.jpg\n",
            "預測數值 [0.7883076667785645, 0.3458542823791504, 0.992510199546814]\n",
            "T&F: [1, 0, 1]\n",
            "correct: ['shoulder']\n",
            "wrong: ['head', 'foot']\n"
          ],
          "name": "stdout"
        },
        {
          "output_type": "execute_result",
          "data": {
            "text/plain": [
              "(-0.5, 255.5, 255.5, -0.5)"
            ]
          },
          "metadata": {
            "tags": []
          },
          "execution_count": 34
        },
        {
          "output_type": "display_data",
          "data": {
            "image/png": "[encoded data removed]",
            "text/plain": [
              "<Figure size 432x288 with 1 Axes>"
            ]
          },
          "metadata": {
            "tags": [],
            "needs_background": "light"
          }
        }
      ]
    }
  ]
}